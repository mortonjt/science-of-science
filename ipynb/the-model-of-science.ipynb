{
 "cells": [
  {
   "cell_type": "markdown",
   "metadata": {},
   "source": [
    "https://medium.com/@datamonsters/text-preprocessing-in-python-steps-tools-and-examples-bf025f872908"
   ]
  },
  {
   "cell_type": "code",
   "execution_count": 1,
   "metadata": {},
   "outputs": [],
   "source": [
    "import pandas as pd\n",
    "import numpy as np\n",
    "%matplotlib inline"
   ]
  },
  {
   "cell_type": "code",
   "execution_count": 2,
   "metadata": {},
   "outputs": [
    {
     "name": "stdout",
     "output_type": "stream",
     "text": [
      "science.xml\r\n"
     ]
    }
   ],
   "source": [
    "!ls ../data"
   ]
  },
  {
   "cell_type": "code",
   "execution_count": 3,
   "metadata": {},
   "outputs": [],
   "source": [
    "# its actual html, but whatever\n",
    "xmlstring = open('../data/science.xml').read()"
   ]
  },
  {
   "cell_type": "code",
   "execution_count": 4,
   "metadata": {},
   "outputs": [],
   "source": [
    "from lxml import html"
   ]
  },
  {
   "cell_type": "code",
   "execution_count": 5,
   "metadata": {},
   "outputs": [],
   "source": [
    "tree = html.fromstring(xmlstring)"
   ]
  },
  {
   "cell_type": "code",
   "execution_count": 6,
   "metadata": {},
   "outputs": [],
   "source": [
    "abstracts = list(filter(lambda x: x.tag=='abstract_text', list(tree.iter())))"
   ]
  },
  {
   "cell_type": "code",
   "execution_count": 7,
   "metadata": {},
   "outputs": [],
   "source": [
    "abstracts = list(map(lambda x: x.text_content(), abstracts))"
   ]
  },
  {
   "cell_type": "raw",
   "metadata": {},
   "source": [
    "import nltk\n",
    "nltk.download()"
   ]
  },
  {
   "cell_type": "code",
   "execution_count": 8,
   "metadata": {},
   "outputs": [],
   "source": [
    "from nltk.tokenize import word_tokenize\n",
    "from nltk.stem.porter import PorterStemmer\n",
    "\n",
    "notallowed = {'a','the','of','and','in','is','that','for','this','was','by','are','at',\n",
    "              'an','it','to','on','as','if','is','by','for','not','no','all','than','be',\n",
    "              'or', 'has', 'been', 'their', 'may', 'such',\n",
    "              'q','w','e','r','t','y','u','i','o','p','s','d','f','g','h','j','k','l',\n",
    "              'z','x','c','v','b','n','m','but','can','had','have','here','into', 'ii',\n",
    "              'our','we','show','these','use','used','using','were','which','with','from'}\n",
    "\n",
    "def preprocess(x):\n",
    "    tokens = word_tokenize(x)\n",
    "    words = list(filter(lambda w: w.isalpha(), tokens))\n",
    "    words = list(map(lambda x: x.lower(), words))\n",
    "    #porter = PorterStemmer()\n",
    "    #words = list(map(lambda word: porter.stem(word), words))    \n",
    "    words = list(filter(lambda x: x not in notallowed, words))\n",
    "    return ' '.join(words)"
   ]
  },
  {
   "cell_type": "code",
   "execution_count": 9,
   "metadata": {},
   "outputs": [],
   "source": [
    "text = list(map(preprocess, abstracts))"
   ]
  },
  {
   "cell_type": "markdown",
   "metadata": {},
   "source": [
    "- Number of unique words\n",
    "- Topic (i.e. research field)\n",
    "- Title\n",
    "- Number of authors\n",
    "- Date\n",
    "\n",
    "\n",
    "- Keywords?\n",
    "- Author names?"
   ]
  },
  {
   "cell_type": "markdown",
   "metadata": {},
   "source": [
    "# abstracts"
   ]
  },
  {
   "cell_type": "code",
   "execution_count": 10,
   "metadata": {},
   "outputs": [],
   "source": [
    "journals = tree.getchildren()[1].getchildren()"
   ]
  },
  {
   "cell_type": "code",
   "execution_count": 11,
   "metadata": {},
   "outputs": [
    {
     "data": {
      "text/plain": [
       "'\\\\n                        \\\\n                            Up to 50% of the increase in marine animal biodiversity through the Cenozoic at the genus level has been attributed to a sampling bias termed \"the Pull of the Recent,\" the extension of stratigraphic ranges of fossil taxa by the relatively complete sampling of the Recent biota. However, 906 of 958 living genera and subgenera of bivalve mollusks having a fossil record occur in the Pliocene or Pleistocene. The Pull of the Recent thus accounts for only 5% of the Cenozoic increase in bivalve diversity, a major component of the marine record, suggesting that the diversity increase is likely to be a genuine biological pattern.\\\\n                        \\\\n                    '"
      ]
     },
     "execution_count": 11,
     "metadata": {},
     "output_type": "execute_result"
    }
   ],
   "source": [
    "journals[0].getchildren()[1].getchildren()[1].getchildren()[-1].getchildren()[0].text_content()"
   ]
  },
  {
   "cell_type": "code",
   "execution_count": 12,
   "metadata": {},
   "outputs": [],
   "source": [
    "def abstract_func(x):\n",
    "    try:\n",
    "        return x.find('static_data').find('fullrecord_metadata').find('abstracts').text_content()   \n",
    "    except:\n",
    "        return ''\n",
    "full_abstracts = list(map(abstract_func, journals))"
   ]
  },
  {
   "cell_type": "code",
   "execution_count": 13,
   "metadata": {},
   "outputs": [
    {
     "data": {
      "text/plain": [
       "'\\\\n                    \\\\n                        \\\\n                            A persistent reversal in the expected polarity of the initiation of vertically polarized shear waves that graze the D\" layer (the layer at the boundary between the outer core and the lower mantle of Earth) in some regions starts at the arrival time of horizontally polarized shear waves. Full waveform modeling of the split shear waves for paths beneath the Caribbean requires azimuthal anisotropy at the base of the mantle. Models with laterally coherent patterns of transverse isotropy with the hexagonal symmetry axis of the mineral phases tilted from the vertical by as much as 20degrees are consistent with the data. Small-scale convection cells within the mantle above the D\" layer may cause the observed variations by inducing laterally variable crystallographic or shape-preferred orientation in minerals in the D\" layer.\\\\n                        \\\\n                    \\\\n                '"
      ]
     },
     "execution_count": 13,
     "metadata": {},
     "output_type": "execute_result"
    }
   ],
   "source": [
    "full_abstracts[2]"
   ]
  },
  {
   "cell_type": "code",
   "execution_count": 14,
   "metadata": {},
   "outputs": [],
   "source": [
    "processed_abstracts = list(map(preprocess, full_abstracts))"
   ]
  },
  {
   "cell_type": "code",
   "execution_count": 15,
   "metadata": {},
   "outputs": [],
   "source": [
    "def title_func(x):    \n",
    "    return x.find('static_data').find('summary').find('titles').getchildren()[-1].text_content()\n",
    "titles = list(map(title_func, journals))"
   ]
  },
  {
   "cell_type": "code",
   "execution_count": 16,
   "metadata": {},
   "outputs": [
    {
     "data": {
      "text/plain": [
       "'NEUROSCIENCE Dynamics of cortical dendritic membrane potential and spikes in freely behaving rats'"
      ]
     },
     "execution_count": 16,
     "metadata": {},
     "output_type": "execute_result"
    }
   ],
   "source": [
    "journals[-1].find('static_data').find('summary').find('titles').getchildren()[-1].text_content()"
   ]
  },
  {
   "cell_type": "code",
   "execution_count": 17,
   "metadata": {},
   "outputs": [
    {
     "data": {
      "text/plain": [
       "'300 (5622): 1133-1135 MAY 16 2003'"
      ]
     },
     "execution_count": 17,
     "metadata": {},
     "output_type": "execute_result"
    }
   ],
   "source": [
    "journals[0].find('static_data').find('item').find('bib_id').text_content()"
   ]
  },
  {
   "cell_type": "markdown",
   "metadata": {},
   "source": [
    "# unique words"
   ]
  },
  {
   "cell_type": "code",
   "execution_count": 18,
   "metadata": {},
   "outputs": [],
   "source": [
    "character_count = list(map(lambda x: len(preprocess(x)), full_abstracts))"
   ]
  },
  {
   "cell_type": "markdown",
   "metadata": {},
   "source": [
    "# keywords"
   ]
  },
  {
   "cell_type": "code",
   "execution_count": 19,
   "metadata": {},
   "outputs": [
    {
     "data": {
      "text/plain": [
       "'\\\\n                    FOSSIL RECORD\\\\n                    BIODIVERSITY\\\\n                    DIVERSIFICATION\\\\n                    ORIGINATION\\\\n                    EXTINCTION\\\\n                    PAST\\\\n                '"
      ]
     },
     "execution_count": 19,
     "metadata": {},
     "output_type": "execute_result"
    }
   ],
   "source": [
    "journals[0].getchildren()[1].getchildren()[-1].getchildren()[-1].text_content()"
   ]
  },
  {
   "cell_type": "markdown",
   "metadata": {},
   "source": [
    "# number of authors"
   ]
  },
  {
   "cell_type": "code",
   "execution_count": 20,
   "metadata": {},
   "outputs": [
    {
     "data": {
      "text/plain": [
       "[<Element name at 0x1605ef9f8>,\n",
       " <Element name at 0x1605efa48>,\n",
       " <Element name at 0x1605ef598>,\n",
       " <Element name at 0x1605efae8>,\n",
       " <Element name at 0x1605efb38>]"
      ]
     },
     "execution_count": 20,
     "metadata": {},
     "output_type": "execute_result"
    }
   ],
   "source": [
    "journals[0].getchildren()[1].getchildren()[0].getchildren()[3].getchildren()"
   ]
  },
  {
   "cell_type": "code",
   "execution_count": 21,
   "metadata": {},
   "outputs": [],
   "source": [
    "def num_authors_func(x):\n",
    "    try:\n",
    "        return len(x.getchildren()[1].getchildren()[0].getchildren()[3].getchildren())\n",
    "    except:\n",
    "        return -1\n",
    "num_authors = list(map(num_authors_func, journals))"
   ]
  },
  {
   "cell_type": "code",
   "execution_count": 22,
   "metadata": {},
   "outputs": [
    {
     "data": {
      "image/png": "[encoded data removed]",
      "text/plain": [
       "<Figure size 432x288 with 1 Axes>"
      ]
     },
     "metadata": {
      "needs_background": "light"
     },
     "output_type": "display_data"
    }
   ],
   "source": [
    "import matplotlib.pyplot as plt\n",
    "plt.plot(sorted(num_authors)[::-1])\n",
    "plt.yscale('log')"
   ]
  },
  {
   "cell_type": "markdown",
   "metadata": {},
   "source": [
    "# Year"
   ]
  },
  {
   "cell_type": "code",
   "execution_count": 23,
   "metadata": {},
   "outputs": [
    {
     "data": {
      "text/plain": [
       "'2003'"
      ]
     },
     "execution_count": 23,
     "metadata": {},
     "output_type": "execute_result"
    }
   ],
   "source": [
    "journals[0].getchildren()[1].getchildren()[-1].getchildren()[1].text_content().split(' ')[-1]"
   ]
  },
  {
   "cell_type": "code",
   "execution_count": 24,
   "metadata": {},
   "outputs": [],
   "source": [
    "def year_func(x):\n",
    "    try:\n",
    "        return x.find('static_data').find('item').find('bib_id').text_content().split(' ')[-1 ]\n",
    "    except:\n",
    "        return 'None'\n",
    "\n",
    "years = list(map(year_func, journals))"
   ]
  },
  {
   "cell_type": "code",
   "execution_count": 25,
   "metadata": {},
   "outputs": [
    {
     "data": {
      "text/plain": [
       "[<Element uid at 0x15f17a818>,\n",
       " <Element static_data at 0x1611d04f8>,\n",
       " <Element dynamic_data at 0x1611d0908>]"
      ]
     },
     "execution_count": 25,
     "metadata": {},
     "output_type": "execute_result"
    }
   ],
   "source": [
    "journals[2].getchildren()"
   ]
  },
  {
   "cell_type": "code",
   "execution_count": 26,
   "metadata": {},
   "outputs": [
    {
     "data": {
      "text/plain": [
       "['2003',\n",
       " '2000',\n",
       " '2004',\n",
       " '2000',\n",
       " '2015',\n",
       " '1993',\n",
       " '2005',\n",
       " '1992',\n",
       " '1999',\n",
       " '2003']"
      ]
     },
     "execution_count": 26,
     "metadata": {},
     "output_type": "execute_result"
    }
   ],
   "source": [
    "years[:10]"
   ]
  },
  {
   "cell_type": "code",
   "execution_count": 27,
   "metadata": {},
   "outputs": [
    {
     "data": {
      "text/plain": [
       "33012"
      ]
     },
     "execution_count": 27,
     "metadata": {},
     "output_type": "execute_result"
    }
   ],
   "source": [
    "len(years)"
   ]
  },
  {
   "cell_type": "code",
   "execution_count": 28,
   "metadata": {},
   "outputs": [
    {
     "data": {
      "text/plain": [
       "33012"
      ]
     },
     "execution_count": 28,
     "metadata": {},
     "output_type": "execute_result"
    }
   ],
   "source": [
    "len(num_authors)"
   ]
  },
  {
   "cell_type": "code",
   "execution_count": 29,
   "metadata": {},
   "outputs": [
    {
     "data": {
      "text/plain": [
       "33012"
      ]
     },
     "execution_count": 29,
     "metadata": {},
     "output_type": "execute_result"
    }
   ],
   "source": [
    "len(character_count)"
   ]
  },
  {
   "cell_type": "code",
   "execution_count": 30,
   "metadata": {},
   "outputs": [
    {
     "data": {
      "text/plain": [
       "22496"
      ]
     },
     "execution_count": 30,
     "metadata": {},
     "output_type": "execute_result"
    }
   ],
   "source": [
    "len(abstracts)"
   ]
  },
  {
   "cell_type": "code",
   "execution_count": 31,
   "metadata": {
    "scrolled": true
   },
   "outputs": [
    {
     "data": {
      "text/plain": [
       "33012"
      ]
     },
     "execution_count": 31,
     "metadata": {},
     "output_type": "execute_result"
    }
   ],
   "source": [
    "len(full_abstracts)"
   ]
  },
  {
   "cell_type": "code",
   "execution_count": 32,
   "metadata": {},
   "outputs": [],
   "source": [
    "import seaborn as sns\n",
    "from collections import Counter\n",
    "x = np.array(list(map(lambda x: len(x.split(' ')), processed_abstracts)))"
   ]
  },
  {
   "cell_type": "code",
   "execution_count": 33,
   "metadata": {},
   "outputs": [
    {
     "data": {
      "image/png": "[encoded data removed]",
      "text/plain": [
       "<Figure size 432x288 with 1 Axes>"
      ]
     },
     "metadata": {
      "needs_background": "light"
     },
     "output_type": "display_data"
    }
   ],
   "source": [
    "import matplotlib.pyplot as plt\n",
    "fig, ax = plt.subplots()\n",
    "_ = sns.distplot(x, ax=ax)"
   ]
  },
  {
   "cell_type": "code",
   "execution_count": 34,
   "metadata": {},
   "outputs": [],
   "source": [
    "idx = x > 30 # filter out abstracts less than 30 characters\n",
    "filtered_abstracts = list(np.array(processed_abstracts)[idx])"
   ]
  },
  {
   "cell_type": "markdown",
   "metadata": {},
   "source": [
    "# Model selection"
   ]
  },
  {
   "cell_type": "code",
   "execution_count": 35,
   "metadata": {},
   "outputs": [],
   "source": [
    "from sklearn.model_selection import GridSearchCV\n",
    "from sklearn.feature_extraction.text import CountVectorizer\n",
    "from sklearn.decomposition import LatentDirichletAllocation\n",
    "\n",
    "\n",
    "# https://www.machinelearningplus.com/nlp/topic-modeling-python-sklearn-examples/\n",
    "count_vect = CountVectorizer()\n",
    "dtm_tf = count_vect.fit_transform(filtered_abstracts)"
   ]
  },
  {
   "cell_type": "raw",
   "metadata": {},
   "source": [
    "# Define Search Param\n",
    "search_params = {'n_components': [5, 10, 15, 20]}\n",
    "\n",
    "# Init the Model\n",
    "lda = LatentDirichletAllocation()\n",
    "\n",
    "# Init Grid Search Class\n",
    "model = GridSearchCV(lda, param_grid=search_params)\n",
    "\n",
    "# Do the Grid Search\n",
    "model.fit(dtm_tf)\n",
    "\n",
    "GridSearchCV(cv=None, error_score='raise',\n",
    "       estimator=LatentDirichletAllocation(batch_size=128, doc_topic_prior=None,\n",
    "             evaluate_every=-1, learning_decay=0.7, learning_method=None,\n",
    "             learning_offset=10.0, max_doc_update_iter=100, max_iter=10,\n",
    "             mean_change_tol=0.001, n_components=10, n_jobs=1,\n",
    "             n_topics=None, perp_tol=0.1, random_state=None,\n",
    "             topic_word_prior=None, total_samples=1000000.0, verbose=0),\n",
    "       fit_params=None, iid=True, n_jobs=1,\n",
    "       param_grid=search_params,\n",
    "       refit=True, return_train_score='warn',\n",
    "       scoring=None, verbose=0)\n",
    "       \n",
    "lda_tf = model.best_estimator_\n",
    "\n",
    "# Model Parameters\n",
    "print(\"Best Model's Params: \", model.best_params_)\n",
    "\n",
    "# Log Likelihood Score\n",
    "print(\"Best Log Likelihood Score: \", model.best_score_)\n",
    "\n",
    "# Perplexity\n",
    "print(\"Model Perplexity: \", best_lda_model.perplexity(dtm_tf))"
   ]
  },
  {
   "cell_type": "code",
   "execution_count": 39,
   "metadata": {},
   "outputs": [
    {
     "data": {
      "text/plain": [
       "LatentDirichletAllocation(batch_size=128, doc_topic_prior=None,\n",
       "                          evaluate_every=-1, learning_decay=0.7,\n",
       "                          learning_method='online', learning_offset=50.0,\n",
       "                          max_doc_update_iter=100, max_iter=5,\n",
       "                          mean_change_tol=0.001, n_components=5, n_jobs=None,\n",
       "                          perp_tol=0.1, random_state=0, topic_word_prior=None,\n",
       "                          total_samples=1000000.0, verbose=0)"
      ]
     },
     "execution_count": 39,
     "metadata": {},
     "output_type": "execute_result"
    }
   ],
   "source": [
    "n=5\n",
    "lda_tf = LatentDirichletAllocation(n_components=n, max_iter=5,\n",
    "                                learning_method='online',\n",
    "                                learning_offset=50.,\n",
    "                                random_state=0)\n",
    "lda_tf.fit(dtm_tf)"
   ]
  },
  {
   "cell_type": "code",
   "execution_count": 40,
   "metadata": {},
   "outputs": [
    {
     "name": "stderr",
     "output_type": "stream",
     "text": [
      "/Users/jmorton/miniconda3/envs/textminer/lib/python3.7/site-packages/pyLDAvis/_prepare.py:257: FutureWarning: Sorting because non-concatenation axis is not aligned. A future version\n",
      "of pandas will change to not sort by default.\n",
      "\n",
      "To accept the future behavior, pass 'sort=False'.\n",
      "\n",
      "To retain the current behavior and silence the warning, pass 'sort=True'.\n",
      "\n",
      "  return pd.concat([default_term_info] + list(topic_dfs))\n"
     ]
    },
    {
     "data": {
      "text/html": [
       "\n",
       "<link rel=\"stylesheet\" type=\"text/css\" href=\"https://cdn.rawgit.com/bmabey/pyLDAvis/files/ldavis.v1.0.0.css\">\n",
       "\n",
       "\n",
       "<div id=\"ldavis_el2686159118445686067198864\"></div>\n",
       "<script type=\"text/javascript\">\n",
       "\n",
       "var ldavis_el2686159118445686067198864_data = {\"mdsDat\": {\"x\": [0.0534595427185134, -0.181288925577581, 0.23783705567268018, -0.15239639971429028, 0.042388726900677715], \"y\": [0.13237578932940625, 0.07577205547480398, 0.07939741364826736, 0.00018011794500538496, -0.28772537639748286], \"topics\": [1, 2, 3, 4, 5], \"cluster\": [1, 1, 1, 1, 1], \"Freq\": [30.336978858785862, 28.993151715514482, 20.2847774189857, 11.905220826302571, 8.479871180411392]}, \"tinfo\": {\"Category\": [\"Default\", \"Default\", \"Default\", \"Default\", \"Default\", \"Default\", \"Default\", \"Default\", \"Default\", \"Default\", \"Default\", \"Default\", \"Default\", \"Default\", \"Default\", \"Default\", \"Default\", \"Default\", \"Default\", \"Default\", \"Default\", \"Default\", \"Default\", \"Default\", \"Default\", \"Default\", \"Default\", \"Default\", \"Default\", \"Default\", \"Topic1\", \"Topic1\", \"Topic1\", \"Topic1\", \"Topic1\", \"Topic1\", \"Topic1\", \"Topic1\", \"Topic1\", \"Topic1\", \"Topic1\", \"Topic1\", \"Topic1\", \"Topic1\", \"Topic1\", \"Topic1\", \"Topic1\", \"Topic1\", \"Topic1\", \"Topic1\", \"Topic1\", \"Topic1\", \"Topic1\", \"Topic1\", \"Topic1\", \"Topic1\", \"Topic1\", \"Topic1\", \"Topic1\", \"Topic1\", \"Topic1\", \"Topic1\", \"Topic1\", \"Topic1\", \"Topic1\", \"Topic1\", \"Topic1\", \"Topic1\", \"Topic1\", \"Topic1\", \"Topic1\", \"Topic1\", \"Topic1\", \"Topic1\", \"Topic1\", \"Topic1\", \"Topic1\", \"Topic1\", \"Topic1\", \"Topic1\", \"Topic1\", \"Topic1\", \"Topic1\", \"Topic1\", \"Topic1\", \"Topic1\", \"Topic1\", \"Topic1\", \"Topic1\", \"Topic1\", \"Topic1\", \"Topic1\", \"Topic1\", \"Topic1\", \"Topic1\", \"Topic1\", \"Topic1\", \"Topic1\", \"Topic1\", \"Topic2\", \"Topic2\", \"Topic2\", \"Topic2\", \"Topic2\", \"Topic2\", \"Topic2\", \"Topic2\", \"Topic2\", \"Topic2\", \"Topic2\", \"Topic2\", \"Topic2\", \"Topic2\", \"Topic2\", \"Topic2\", \"Topic2\", \"Topic2\", \"Topic2\", \"Topic2\", \"Topic2\", \"Topic2\", \"Topic2\", \"Topic2\", \"Topic2\", \"Topic2\", \"Topic2\", \"Topic2\", \"Topic2\", \"Topic2\", \"Topic2\", \"Topic2\", \"Topic2\", \"Topic2\", \"Topic2\", \"Topic2\", \"Topic2\", \"Topic2\", \"Topic2\", \"Topic2\", \"Topic2\", \"Topic2\", \"Topic2\", \"Topic2\", \"Topic2\", \"Topic2\", \"Topic2\", \"Topic2\", \"Topic2\", \"Topic2\", \"Topic2\", \"Topic2\", \"Topic2\", \"Topic2\", \"Topic2\", \"Topic2\", \"Topic2\", \"Topic2\", \"Topic2\", \"Topic2\", \"Topic2\", \"Topic2\", \"Topic2\", \"Topic2\", \"Topic2\", \"Topic2\", \"Topic2\", \"Topic2\", \"Topic2\", \"Topic2\", \"Topic2\", \"Topic2\", \"Topic2\", \"Topic2\", \"Topic2\", \"Topic2\", \"Topic2\", \"Topic2\", \"Topic2\", \"Topic2\", \"Topic2\", \"Topic2\", \"Topic3\", \"Topic3\", \"Topic3\", \"Topic3\", \"Topic3\", \"Topic3\", \"Topic3\", \"Topic3\", \"Topic3\", \"Topic3\", \"Topic3\", \"Topic3\", \"Topic3\", \"Topic3\", \"Topic3\", \"Topic3\", \"Topic3\", \"Topic3\", \"Topic3\", \"Topic3\", \"Topic3\", \"Topic3\", \"Topic3\", \"Topic3\", \"Topic3\", \"Topic3\", \"Topic3\", \"Topic3\", \"Topic3\", \"Topic3\", \"Topic3\", \"Topic3\", \"Topic3\", \"Topic3\", \"Topic3\", \"Topic3\", \"Topic3\", \"Topic3\", \"Topic3\", \"Topic3\", \"Topic3\", \"Topic3\", \"Topic3\", \"Topic3\", \"Topic3\", \"Topic3\", \"Topic3\", \"Topic3\", \"Topic3\", \"Topic3\", \"Topic3\", \"Topic3\", \"Topic3\", \"Topic3\", \"Topic3\", \"Topic3\", \"Topic3\", \"Topic3\", \"Topic3\", \"Topic3\", \"Topic3\", \"Topic3\", \"Topic3\", \"Topic3\", \"Topic3\", \"Topic3\", \"Topic3\", \"Topic3\", \"Topic3\", \"Topic3\", \"Topic3\", \"Topic3\", \"Topic3\", \"Topic3\", \"Topic4\", \"Topic4\", \"Topic4\", \"Topic4\", \"Topic4\", \"Topic4\", \"Topic4\", \"Topic4\", \"Topic4\", \"Topic4\", \"Topic4\", \"Topic4\", \"Topic4\", \"Topic4\", \"Topic4\", \"Topic4\", \"Topic4\", \"Topic4\", \"Topic4\", \"Topic4\", \"Topic4\", \"Topic4\", \"Topic4\", \"Topic4\", \"Topic4\", \"Topic4\", \"Topic4\", \"Topic4\", \"Topic4\", \"Topic4\", \"Topic4\", \"Topic4\", \"Topic4\", \"Topic4\", \"Topic4\", \"Topic4\", \"Topic4\", \"Topic4\", \"Topic4\", \"Topic4\", \"Topic4\", \"Topic4\", \"Topic4\", \"Topic4\", \"Topic4\", \"Topic4\", \"Topic4\", \"Topic4\", \"Topic4\", \"Topic4\", \"Topic4\", \"Topic4\", \"Topic4\", \"Topic4\", \"Topic4\", \"Topic4\", \"Topic4\", \"Topic4\", \"Topic4\", \"Topic4\", \"Topic4\", \"Topic4\", \"Topic4\", \"Topic4\", \"Topic4\", \"Topic4\", \"Topic4\", \"Topic4\", \"Topic4\", \"Topic4\", \"Topic4\", \"Topic4\", \"Topic5\", \"Topic5\", \"Topic5\", \"Topic5\", \"Topic5\", \"Topic5\", \"Topic5\", \"Topic5\", \"Topic5\", \"Topic5\", \"Topic5\", \"Topic5\", \"Topic5\", \"Topic5\", \"Topic5\", \"Topic5\", \"Topic5\", \"Topic5\", \"Topic5\", \"Topic5\", \"Topic5\", \"Topic5\", \"Topic5\", \"Topic5\", \"Topic5\", \"Topic5\", \"Topic5\", \"Topic5\", \"Topic5\", \"Topic5\", \"Topic5\", \"Topic5\", \"Topic5\", \"Topic5\", \"Topic5\", \"Topic5\", \"Topic5\", \"Topic5\", \"Topic5\", \"Topic5\", \"Topic5\", \"Topic5\", \"Topic5\", \"Topic5\", \"Topic5\", \"Topic5\", \"Topic5\", \"Topic5\", \"Topic5\", \"Topic5\", \"Topic5\", \"Topic5\", \"Topic5\", \"Topic5\", \"Topic5\", \"Topic5\", \"Topic5\", \"Topic5\", \"Topic5\", \"Topic5\", \"Topic5\", \"Topic5\", \"Topic5\", \"Topic5\", \"Topic5\", \"Topic5\", \"Topic5\", \"Topic5\", \"Topic5\", \"Topic5\", \"Topic5\", \"Topic5\", \"Topic5\", \"Topic5\", \"Topic5\", \"Topic5\", \"Topic5\"], \"Freq\": [7763.0, 5438.0, 5901.0, 2351.0, 3127.0, 2059.0, 2282.0, 3460.0, 2802.0, 2622.0, 3402.0, 1694.0, 3724.0, 1899.0, 2092.0, 2145.0, 1564.0, 1105.0, 1392.0, 2347.0, 2157.0, 2860.0, 1187.0, 1870.0, 3761.0, 1572.0, 970.0, 2907.0, 951.0, 1739.0, 2144.4858073446408, 1572.0600700453972, 3126.387889349935, 1366.7722945303742, 1252.2437662098293, 1027.5410182193855, 831.560753966019, 810.5212044960541, 751.4926991221075, 672.0108727085546, 620.2397302793698, 618.2197919347092, 545.5065995938334, 524.8101477867191, 501.15390304584344, 688.049742082953, 478.5754333327617, 477.46827791376904, 467.7375034972071, 454.1770657692712, 445.67142630344756, 453.1776954403617, 424.4721107275883, 424.681070518825, 409.11013122047154, 592.7712608748622, 385.6718035892826, 418.1820354972594, 373.79380233929555, 359.760788599031, 1044.611050926118, 787.3362394841664, 857.065159661671, 1841.8173613729966, 451.48305215140556, 1064.6220972361618, 3327.4800522333026, 609.5563144779754, 671.1541531413598, 1025.637733057152, 5426.071264096695, 726.6310723620239, 2032.6912825819468, 2543.96485954842, 766.7905076897096, 630.130464538013, 730.3850991474684, 1080.9005565341245, 1711.757663842294, 1093.399463561366, 1270.5223160538264, 1084.3410060180147, 1748.5741322605709, 1452.240683781689, 1927.4417957176204, 921.1059379626104, 1769.3942149182515, 1638.138359894996, 1301.640627695928, 1081.7964184746788, 1080.5283981263444, 1640.3616778540809, 1154.05556405916, 1473.0557403218493, 1352.0090936125782, 1207.2961410674236, 1220.2844581008262, 1204.263334179566, 1293.409090469122, 2090.794823240322, 677.7594810013885, 669.9179813132846, 571.6904278994293, 504.2328229138553, 540.4193234526532, 1159.7505995775682, 426.82734816870277, 402.60910632316074, 697.9842559287786, 326.3335925618971, 322.6851399687991, 312.62772330233696, 306.18396542276275, 395.40851256031425, 332.8239555129706, 284.69323157014986, 285.4172898643079, 296.4365809115002, 299.4916561863963, 269.4724779904961, 266.72830983106877, 266.8419284150126, 269.7440486948153, 270.64064800905476, 548.7154885923946, 248.71400153238395, 261.94582805713816, 246.65308195302978, 356.3334305147579, 576.6057380583608, 387.8970126300058, 356.26642572382326, 392.50655876258077, 379.1960654151517, 303.65050639819077, 403.5743870587881, 387.5780395350961, 485.4845262202408, 1196.996166761689, 527.3900657583487, 521.1278470905246, 1555.9494076529243, 691.2419090516214, 1175.258324625109, 531.6346158737545, 785.901387054383, 779.2974402694076, 728.0558146684034, 479.4775063777159, 1468.8607179205062, 868.5553198242915, 1226.1285413227572, 605.551146657716, 1204.6051402745727, 903.4088550049097, 1725.447308496787, 568.234183985726, 1073.2297007414484, 1768.2371216156619, 982.334558125697, 914.6663304619659, 1179.8363301062923, 1303.102142433768, 708.0344983179211, 1506.1654304004878, 1013.1394428532744, 862.4430274816855, 1837.0760651799828, 1417.7235758961394, 988.0062705801826, 1154.3112233288837, 1095.186491663331, 945.038428770083, 893.9558555642927, 849.0766844747925, 1097.5436926530365, 1091.0105132692584, 1016.0123388626109, 1036.8210731266302, 908.0360956131825, 902.785801950574, 2350.6240203045236, 1563.2765442954244, 992.4027093537245, 707.6261871814661, 658.7137663806617, 647.6119670783738, 633.6491367011284, 587.1000953567227, 910.2411267821337, 473.3965004634841, 409.06755247345575, 411.1808245634699, 364.46858383570566, 358.46329707007317, 352.820853104021, 339.1760882038728, 311.177881121764, 294.6338363280527, 267.02520219530334, 286.4981189895557, 263.80673016817366, 270.11802321581837, 257.5698059374513, 244.74483317367773, 242.34304133697216, 236.4700266524306, 232.9106430668779, 264.1067168993717, 219.38111326108344, 217.1909688684296, 648.3085402089374, 454.4016019967576, 427.26168703877977, 286.831410671779, 273.1122985886779, 1120.7121004023777, 921.265871720462, 308.9548492152103, 420.4880921630843, 932.8237683964949, 678.5808207853781, 366.4602727492016, 6469.42845195455, 460.3583726266314, 742.686296299938, 405.28991709445825, 1090.7389381100631, 2171.604359018301, 3797.6977809102773, 725.0676845219327, 592.1976256825859, 764.7447439606493, 744.5485470501518, 1574.5373711812408, 1221.6448517766912, 1850.5381552898912, 632.9819673190299, 1877.5161084489578, 1180.643881983733, 833.364775930979, 1426.5968411221213, 1438.7140009768732, 1380.1278256718485, 989.6461808181926, 971.5944915037264, 1025.8391097036297, 1028.3942403664253, 863.5438537139594, 853.5113889394758, 812.4735598017111, 846.821403245187, 831.7858455118206, 859.0419384951499, 828.963894105945, 1104.5501124689001, 577.8248332399492, 431.7419555909107, 372.2896532332022, 343.4474149999049, 324.3755546689329, 290.852201597931, 276.2544432126755, 276.2657017131345, 265.24093192914785, 250.62295617199752, 228.7910181584099, 216.50135666326128, 217.91295947831821, 210.46131756491758, 200.09060579087932, 191.98455930132502, 191.06087093260794, 183.26874089735458, 197.1727543485997, 168.3378809411612, 163.92254020458273, 167.58619170858182, 162.34478162654855, 160.07452894566228, 160.06451649962935, 158.7303705420381, 156.54809091501255, 157.472915414637, 152.9216748146093, 658.8829872033027, 344.00800114158886, 333.5298654470955, 454.59882004022745, 218.1484213254894, 680.0325076429928, 484.00568588590244, 222.3089436539546, 1830.4137739811986, 286.2451637816768, 371.07463199910427, 637.7796415319892, 380.3616243864238, 358.3628665432321, 840.1825687154768, 1150.9802894982356, 394.6959665291936, 317.7392491926128, 445.1401686124716, 333.6560575473152, 396.11359378573576, 1161.6161741432584, 612.3381414769851, 714.840257040525, 639.8638405898145, 921.4458115488942, 1076.1670582893628, 761.7452716077441, 786.9741917819258, 748.0324218546677, 743.4803453664653, 788.5634076611653, 584.5575279934955, 553.1974692555992, 618.5986012666139, 462.0803930777764, 489.96885311433306, 533.533501429045, 465.53704767990274, 464.9975423947465, 456.01267494214244, 455.4877654654828, 247.27095441652585, 233.3223437573239, 233.16511001676142, 204.83528006766636, 197.35426718397596, 205.36571884827774, 176.89971356095336, 156.05696925183457, 177.36459761447642, 127.02331199655603, 127.02148035138282, 120.15984820631196, 115.02763475310186, 129.58844656927968, 108.18426154029694, 104.66526355974203, 102.9913466229358, 105.78222340091999, 98.80618496974138, 98.10844226817076, 96.04635704713384, 98.1734627742876, 88.7458891245921, 85.09909851454131, 82.44358521732822, 104.89181300260952, 77.00947501597733, 75.82362748237011, 74.50672612847653, 75.35054524822749, 108.85538145309818, 91.0752483217209, 526.3768335978095, 165.53139229927487, 93.94903060822907, 409.01141586220285, 112.75960860839562, 187.5388621508869, 306.0052006673542, 170.17385497985734, 638.3255646605473, 173.22736266709776, 232.25118328245415, 530.448843687385, 170.94095302314312, 200.2196075899366, 759.6254724634364, 629.6197862491285, 500.3313251725421, 1241.6552714797886, 960.94991184952, 436.44404926781345, 581.1215374782481, 556.2062463984694, 342.7412788603146, 896.9794857372763, 260.35608115683294, 381.4180460060283, 788.9389361050303, 335.08365723692293, 726.7301697751578, 282.449113797964, 346.59320427280534, 323.5760856106854, 465.77028398405, 341.97684347843125, 312.0763186528242, 419.3977227144705, 404.18175762009685, 321.5157176775462, 494.9813347587475, 501.3188415010611, 424.4193905638754, 415.73933424928595, 360.76341658200687, 336.9547947772208, 338.41551438839184], \"Term\": [\"cells\", \"cell\", \"protein\", \"mice\", \"proteins\", \"years\", \"species\", \"dna\", \"expression\", \"genes\", \"human\", \"genetic\", \"gene\", \"carbon\", \"quantum\", \"binding\", \"neurons\", \"climate\", \"global\", \"receptor\", \"per\", \"more\", \"evolution\", \"transcription\", \"during\", \"kinase\", \"ice\", \"complex\", \"genome\", \"temperature\", \"binding\", \"kinase\", \"proteins\", \"domain\", \"membrane\", \"beta\", \"regulatory\", \"yeast\", \"phosphorylation\", \"assembly\", \"peptide\", \"replication\", \"adenosine\", \"chromatin\", \"histone\", \"amino\", \"binds\", \"tyrosine\", \"enzymes\", \"fusion\", \"bind\", \"recombination\", \"residues\", \"coli\", \"kinases\", \"subunit\", \"subunits\", \"polymer\", \"cytoplasmic\", \"guanosine\", \"synthesis\", \"complexes\", \"conserved\", \"transcription\", \"acids\", \"reaction\", \"dna\", \"catalytic\", \"molecule\", \"alpha\", \"protein\", \"transcriptional\", \"rna\", \"complex\", \"domains\", \"enzyme\", \"calcium\", \"nuclear\", \"molecular\", \"acid\", \"molecules\", \"sites\", \"structure\", \"mechanism\", \"two\", \"site\", \"its\", \"through\", \"activation\", \"interactions\", \"required\", \"cell\", \"function\", \"between\", \"gene\", \"activity\", \"thus\", \"both\", \"cells\", \"quantum\", \"mantle\", \"kilometers\", \"emission\", \"kelvin\", \"films\", \"optical\", \"wave\", \"images\", \"spin\", \"seismic\", \"velocity\", \"stars\", \"micrometers\", \"waves\", \"cubic\", \"superconducting\", \"electric\", \"film\", \"infrared\", \"mars\", \"fault\", \"earthquakes\", \"dust\", \"rocks\", \"laser\", \"earthquake\", \"pressures\", \"crust\", \"graphene\", \"liquid\", \"scattering\", \"coherent\", \"spectra\", \"thin\", \"deformation\", \"tunneling\", \"silicon\", \"devices\", \"materials\", \"fields\", \"motion\", \"magnetic\", \"electronic\", \"field\", \"nanometers\", \"material\", \"solar\", \"atoms\", \"bulk\", \"energy\", \"density\", \"phase\", \"thermal\", \"electron\", \"measurements\", \"observed\", \"atomic\", \"properties\", \"surface\", \"states\", \"transition\", \"temperature\", \"per\", \"measured\", \"high\", \"systems\", \"dynamics\", \"between\", \"similar\", \"water\", \"large\", \"system\", \"time\", \"state\", \"low\", \"two\", \"results\", \"structure\", \"its\", \"over\", \"data\", \"mice\", \"neurons\", \"brain\", \"synaptic\", \"neural\", \"tissue\", \"patients\", \"cortex\", \"infection\", \"adult\", \"cortical\", \"learning\", \"transgenic\", \"embryonic\", \"behavioral\", \"sensory\", \"embryos\", \"synapses\", \"nervous\", \"clinical\", \"macrophages\", \"bone\", \"syndrome\", \"intestinal\", \"hippocampal\", \"chronic\", \"sleep\", \"inflammatory\", \"postsynaptic\", \"rats\", \"neuronal\", \"death\", \"blood\", \"epithelial\", \"innate\", \"disease\", \"immune\", \"dendritic\", \"immunity\", \"mouse\", \"stem\", \"tumors\", \"cells\", \"tissues\", \"tumor\", \"developmental\", \"responses\", \"expression\", \"cell\", \"memory\", \"differentiation\", \"virus\", \"expressed\", \"receptor\", \"development\", \"human\", \"cancer\", \"gene\", \"signaling\", \"receptors\", \"activity\", \"thus\", \"during\", \"response\", \"after\", \"found\", \"results\", \"activation\", \"factor\", \"increased\", \"function\", \"growth\", \"also\", \"genes\", \"climate\", \"marine\", \"tropical\", \"warming\", \"forest\", \"ecosystem\", \"atlantic\", \"community\", \"communities\", \"ecosystems\", \"biodiversity\", \"glacial\", \"ozone\", \"land\", \"anthropogenic\", \"biomass\", \"trna\", \"sulfate\", \"productivity\", \"forcing\", \"antarctic\", \"aerosol\", \"mrnas\", \"waters\", \"forests\", \"seasonal\", \"climatic\", \"annual\", \"century\", \"coral\", \"ocean\", \"soil\", \"extinction\", \"sea\", \"precipitation\", \"ago\", \"north\", \"records\", \"years\", \"pacific\", \"variability\", \"atmospheric\", \"year\", \"southern\", \"ice\", \"global\", \"record\", \"northern\", \"past\", \"methane\", \"nitrogen\", \"carbon\", \"million\", \"change\", \"rates\", \"changes\", \"during\", \"over\", \"per\", \"species\", \"data\", \"similar\", \"water\", \"temperature\", \"between\", \"increase\", \"increased\", \"more\", \"present\", \"large\", \"suggest\", \"results\", \"traits\", \"males\", \"fitness\", \"phylogenetic\", \"sexual\", \"birds\", \"sex\", \"taxa\", \"females\", \"trait\", \"benefits\", \"ancestral\", \"polymorphisms\", \"cost\", \"seed\", \"public\", \"extant\", \"sister\", \"costs\", \"fungi\", \"breeding\", \"colorectal\", \"women\", \"crop\", \"parental\", \"comparative\", \"mate\", \"crops\", \"cftr\", \"genotypes\", \"prey\", \"rice\", \"evolutionary\", \"offspring\", \"benefit\", \"social\", \"diversification\", \"sperm\", \"genomes\", \"wild\", \"populations\", \"divergence\", \"male\", \"variation\", \"people\", \"reproductive\", \"evolution\", \"genome\", \"selection\", \"species\", \"genetic\", \"individuals\", \"among\", \"population\", \"genomic\", \"genes\", \"risk\", \"diversity\", \"more\", \"differences\", \"human\", \"groups\", \"plant\", \"plants\", \"most\", \"common\", \"humans\", \"new\", \"analysis\", \"sequences\", \"gene\", \"between\", \"other\", \"data\", \"they\", \"across\", \"many\"], \"Total\": [7763.0, 5438.0, 5901.0, 2351.0, 3127.0, 2059.0, 2282.0, 3460.0, 2802.0, 2622.0, 3402.0, 1694.0, 3724.0, 1899.0, 2092.0, 2145.0, 1564.0, 1105.0, 1392.0, 2347.0, 2157.0, 2860.0, 1187.0, 1870.0, 3761.0, 1572.0, 970.0, 2907.0, 951.0, 1739.0, 2145.2687964523248, 1572.8407601681502, 3127.9673245601653, 1367.561584299421, 1253.0315602249916, 1028.3309850725873, 832.3589420016275, 811.3293664155789, 752.2693640169595, 672.8066296094595, 621.0240523762691, 619.0155075906288, 546.2911171274274, 525.6034113817851, 501.9455987163529, 689.1406995916383, 479.35506098204746, 478.2486743772655, 468.5208500525633, 454.96328457995065, 446.45236651161093, 454.0020581388662, 425.2518602559691, 425.47102479022095, 409.88755619912484, 593.9270405953787, 386.44787504677015, 419.0425799907286, 374.5746664116188, 360.5378752749882, 1050.2775522646589, 789.8606902227796, 861.8514236901608, 1870.5277194100402, 452.75067021489207, 1080.9688536335004, 3460.584198960551, 614.6781590913976, 678.1698186341812, 1052.0697377369675, 5901.4547736953755, 739.730798632286, 2277.4883426271413, 2907.6004835018657, 802.3908051877952, 651.6126769893809, 785.4126095943849, 1287.428717344516, 2458.023811888108, 1365.5908718431774, 1721.9580832817537, 1384.6199191973512, 2821.136896278285, 2242.237530810042, 3818.717416795348, 1134.5382196060532, 3613.8676703330393, 3317.832675589989, 2165.790796631562, 1655.5482089755117, 1724.850187137853, 5438.669640777015, 2187.947583281365, 4807.862277488496, 3724.937824142438, 2887.783868251921, 3189.99521041498, 3226.079506829741, 7763.445309400623, 2092.96888192939, 678.5066466693964, 670.6788895618511, 572.5110939436488, 504.9862520280982, 541.3099969776422, 1161.7256710346808, 427.6872829106864, 403.4229232423927, 699.5600162584589, 327.0806022257177, 323.438908031921, 313.37587577045093, 306.93749123648587, 396.4153944954429, 333.679344105637, 285.43817107650847, 286.18534411363714, 297.234485870252, 300.31884591246916, 270.2219176145606, 267.4749709002851, 267.589315182148, 270.50744175047646, 271.41585275873257, 550.3185116037344, 249.46105748827972, 262.73498412025305, 247.40464112238337, 357.4211759802302, 580.9579978022456, 389.27474972158046, 357.37308250719303, 394.3248534619918, 381.00933583194734, 304.6938826303457, 406.2593231021847, 390.9196139496933, 492.0518784338476, 1243.6014031744223, 536.27196119894, 530.8259406849127, 1639.4892496275077, 711.3483395697434, 1245.1635533074827, 545.9274826835787, 825.859888798784, 821.2696372113556, 772.699431557383, 492.2148252346042, 1730.5425590194798, 968.4413031397451, 1496.3940285486256, 655.7498501550612, 1482.9402603902042, 1099.225904613994, 2517.794247074049, 621.8366412688044, 1454.1153903246513, 2887.1847896514005, 1310.4336223446385, 1186.9827107896685, 1739.4638291173037, 2157.7556892690773, 849.5702715470001, 2806.708435165189, 1507.8325881947444, 1190.3517411466182, 4807.862277488496, 3160.8075740380177, 1625.9219259446727, 2298.2700072557463, 2303.786866196829, 1593.866188053576, 1411.697218387923, 1360.319121070487, 3818.717416795348, 3774.7773604337162, 2821.136896278285, 3613.8676703330393, 2005.2138806053636, 2688.171879029928, 2351.419506625081, 1564.072935679352, 993.215160611725, 708.4226516906767, 659.5132748083868, 648.4155526157567, 634.4975371956095, 587.9054624523769, 911.6001508155089, 474.22150535481853, 409.875591193665, 411.9939768148788, 365.2794450566922, 359.26206481105504, 353.64461271172866, 339.9773046995217, 311.98859590436945, 295.42821938950317, 267.8215826203886, 287.35596212310907, 264.6011607080171, 270.93229269366367, 258.3761546712061, 245.5395602046659, 243.13744892473807, 237.27054050491643, 233.7069190993706, 265.03559026306755, 220.17559692894082, 217.98719475231624, 650.8261419147897, 456.37420574073917, 429.2870158880918, 287.9340993269965, 274.29392152102315, 1155.025771929602, 959.8425348357573, 311.3520809721324, 427.9813840668556, 984.1597220959445, 707.9628209836914, 373.2205212423518, 7763.445309400623, 476.30929750904687, 798.4511544345295, 419.532696119493, 1264.0481484974443, 2802.9344081319355, 5438.669640777015, 816.3931856860981, 653.0921376686432, 908.6680561216788, 895.5276730801864, 2347.7925782759057, 1778.4678581292128, 3402.8718815742773, 754.9476882861634, 3724.937824142438, 2014.5097974311805, 1195.4450706067992, 2887.783868251921, 3189.99521041498, 3761.3443690692325, 1997.023649730389, 1933.7577416358497, 3201.1907934873843, 3774.7773604337162, 2165.790796631562, 2087.8318737624973, 1659.0471178961661, 2187.947583281365, 2194.217858351104, 3150.28551915581, 2622.2206412100663, 1105.307722838847, 578.6598920201152, 432.5009331071039, 373.0469320166167, 344.20888143069277, 325.135200005374, 291.61945923137, 277.0320455942108, 277.0502271594852, 266.0028111071324, 251.3980053799614, 229.54751908801177, 217.25958175641256, 218.6777408504008, 211.21997949577192, 200.85449281988306, 192.75260575628403, 191.83677048960178, 184.030653854394, 198.01627604329855, 169.10350368827028, 164.68654713726136, 168.37034530683925, 163.10655367683307, 160.83583744214786, 160.82784592390001, 159.488736673833, 157.31888126981252, 158.25196214842583, 153.68062428667298, 664.2814384249601, 346.4028494173462, 336.78583037062236, 460.54464498129784, 219.44578639578265, 710.7083424920529, 501.50512827929305, 225.34270788555813, 2059.3371542116297, 297.4133223992299, 392.6084231351541, 703.9078271859106, 404.4046933479843, 379.19244008595774, 970.9634739896458, 1392.001529449832, 429.3739391302663, 337.97340120027303, 505.66873684445653, 363.3599630422872, 461.73269043873717, 1899.6293286032335, 902.6996073624878, 1164.999635475323, 1049.4312680115734, 2076.992528330051, 3761.3443690692325, 2005.2138806053636, 2157.7556892690773, 2282.797504740055, 2688.171879029928, 3160.8075740380177, 1625.9219259446727, 1739.4638291173037, 4807.862277488496, 1136.9761375619676, 1659.0471178961661, 2860.956287184548, 1642.4786083634915, 2298.2700072557463, 2301.973600674886, 3774.7773604337162, 248.08047077929496, 234.1112378950116, 233.9587936432866, 205.62818356277518, 198.14430833709721, 206.19768216426536, 177.68994979778194, 156.87653531148828, 178.4478491374178, 127.81475175494535, 127.82489718040276, 120.97495740919047, 115.82983635725367, 130.5149892051498, 109.00261780620296, 105.45747245061257, 103.78102362383771, 106.59429822187795, 99.60069108714947, 98.91357502216783, 96.83886668783522, 98.99292450003163, 89.53722405285131, 85.8987696259136, 83.24667318559449, 105.92604800533343, 77.80364005927923, 76.61520169614018, 75.30059478949492, 76.16511251924615, 110.08681169616143, 92.09522366869201, 547.6451337874255, 169.63826771821954, 95.33825421399843, 447.26628012269833, 115.52247893336623, 199.41959577112993, 341.8984761318986, 186.4351882466859, 857.0784264717288, 190.40711580649236, 269.09624637061256, 728.00433170353, 190.0413516632513, 229.99410605194075, 1187.697237794452, 951.9201272540151, 719.9522193271321, 2282.797504740055, 1694.6291493857875, 643.8947023705792, 978.0439092055944, 957.5446991299925, 503.7226402123263, 2622.2206412100663, 368.7127810019353, 710.2895096965317, 2860.956287184548, 624.938350751879, 3402.8718815742773, 521.774008739918, 844.0942656396533, 735.2397227106094, 1943.1285057226314, 881.9801060682257, 696.4395027765977, 1740.244173850629, 1627.696364196047, 776.9612287886325, 3724.937824142438, 4807.862277488496, 2574.6402956945403, 2688.171879029928, 1810.9500937668504, 1123.9274429295049, 1894.5860239280287], \"loglift\": [30.0, 29.0, 28.0, 27.0, 26.0, 25.0, 24.0, 23.0, 22.0, 21.0, 20.0, 19.0, 18.0, 17.0, 16.0, 15.0, 14.0, 13.0, 12.0, 11.0, 10.0, 9.0, 8.0, 7.0, 6.0, 5.0, 4.0, 3.0, 2.0, 1.0, 1.1924, 1.1923, 1.1923, 1.1922, 1.1922, 1.192, 1.1918, 1.1918, 1.1918, 1.1916, 1.1915, 1.1915, 1.1914, 1.1913, 1.1912, 1.1912, 1.1912, 1.1912, 1.1911, 1.1911, 1.1911, 1.191, 1.191, 1.1909, 1.1909, 1.1909, 1.1908, 1.1907, 1.1907, 1.1906, 1.1874, 1.1896, 1.1872, 1.1773, 1.19, 1.1776, 1.1536, 1.1844, 1.1824, 1.1674, 1.1088, 1.1749, 1.0791, 1.0592, 1.1474, 1.1593, 1.1202, 1.018, 0.831, 0.9705, 0.8888, 0.9483, 0.7145, 0.7584, 0.5091, 0.9844, 0.4787, 0.4871, 0.6836, 0.7673, 0.7251, -0.0058, 0.5531, 0.0099, 0.1793, 0.3207, 0.2319, 0.2074, -0.5993, 1.2371, 1.237, 1.237, 1.2367, 1.2366, 1.2365, 1.2364, 1.2361, 1.2361, 1.2359, 1.2358, 1.2358, 1.2357, 1.2357, 1.2356, 1.2355, 1.2355, 1.2354, 1.2354, 1.2354, 1.2353, 1.2353, 1.2353, 1.2353, 1.2353, 1.2352, 1.2351, 1.2351, 1.2351, 1.2351, 1.2306, 1.2346, 1.235, 1.2335, 1.2333, 1.2347, 1.2315, 1.2295, 1.2247, 1.1999, 1.2214, 1.2197, 1.1858, 1.2094, 1.1803, 1.2116, 1.1885, 1.1857, 1.1786, 1.2119, 1.0742, 1.1293, 1.0389, 1.1585, 1.0302, 1.0419, 0.8602, 1.148, 0.9344, 0.7478, 0.9499, 0.9775, 0.8499, 0.7338, 1.0559, 0.6157, 0.8405, 0.9159, 0.276, 0.4363, 0.74, 0.5495, 0.4945, 0.7154, 0.7812, 0.7668, -0.0087, -0.0031, 0.2169, -0.0105, 0.4459, 0.147, 1.595, 1.5948, 1.5945, 1.5942, 1.5941, 1.5941, 1.594, 1.5939, 1.5938, 1.5936, 1.5933, 1.5933, 1.5931, 1.5931, 1.593, 1.5929, 1.5927, 1.5926, 1.5923, 1.5923, 1.5923, 1.5923, 1.5922, 1.5921, 1.592, 1.5919, 1.5919, 1.5918, 1.5917, 1.5916, 1.5914, 1.591, 1.5906, 1.5915, 1.591, 1.5651, 1.5543, 1.5876, 1.5776, 1.5417, 1.5529, 1.577, 1.413, 1.5612, 1.5229, 1.5608, 1.4478, 1.3401, 1.2362, 1.4767, 1.4974, 1.4229, 1.4107, 1.1958, 1.2197, 0.9862, 1.4191, 0.9102, 1.061, 1.2345, 0.8901, 0.799, 0.5927, 0.8932, 0.907, 0.4573, 0.295, 0.6758, 0.7008, 0.8814, 0.6461, 0.6253, 0.2959, 0.4437, 2.1275, 2.1267, 2.1264, 2.1262, 2.126, 2.1259, 2.1256, 2.1254, 2.1254, 2.1253, 2.1251, 2.1249, 2.1247, 2.1247, 2.1246, 2.1244, 2.1242, 2.1241, 2.124, 2.1239, 2.1237, 2.1235, 2.1235, 2.1235, 2.1234, 2.1234, 2.1234, 2.1233, 2.1233, 2.1232, 2.12, 2.1213, 2.1185, 2.1152, 2.1223, 2.0841, 2.0927, 2.1146, 2.0104, 2.0899, 2.0718, 2.0295, 2.0669, 2.0717, 1.9835, 1.9381, 2.044, 2.0665, 2.0007, 2.0429, 1.9749, 1.6363, 1.7401, 1.6398, 1.6334, 1.3155, 0.8768, 1.1603, 1.1196, 1.0125, 0.8429, 0.7398, 1.1052, 0.9826, 0.0776, 1.2278, 0.9085, 0.4488, 0.8674, 0.5303, 0.5092, 0.0135, 2.4642, 2.4641, 2.4641, 2.4636, 2.4635, 2.4634, 2.463, 2.4622, 2.4614, 2.4613, 2.4612, 2.4607, 2.4605, 2.4604, 2.4599, 2.4599, 2.4598, 2.4598, 2.4595, 2.4593, 2.4593, 2.4592, 2.4586, 2.4581, 2.4578, 2.4577, 2.4572, 2.4571, 2.4569, 2.4567, 2.4562, 2.4563, 2.4279, 2.443, 2.4528, 2.3781, 2.4433, 2.406, 2.3566, 2.3762, 2.1728, 2.3729, 2.3202, 2.1509, 2.3616, 2.3288, 2.0205, 2.0541, 2.1036, 1.8585, 1.9002, 2.0786, 1.9469, 1.9242, 2.0824, 1.3947, 2.1195, 1.8457, 1.1793, 1.8442, 0.9237, 1.8537, 1.5774, 1.6467, 1.0391, 1.52, 1.6647, 1.0445, 1.0744, 1.5851, 0.4492, 0.2067, 0.6647, 0.6009, 0.8541, 1.2628, 0.745], \"logprob\": [30.0, 29.0, 28.0, 27.0, 26.0, 25.0, 24.0, 23.0, 22.0, 21.0, 20.0, 19.0, 18.0, 17.0, 16.0, 15.0, 14.0, 13.0, 12.0, 11.0, 10.0, 9.0, 8.0, 7.0, 6.0, 5.0, 4.0, 3.0, 2.0, 1.0, -5.3769, -5.6874, -4.9999, -5.8274, -5.9149, -6.1126, -6.3243, -6.3499, -6.4255, -6.5373, -6.6175, -6.6207, -6.7458, -6.7845, -6.8306, -6.5137, -6.8767, -6.8791, -6.8997, -6.9291, -6.948, -6.9313, -6.9967, -6.9962, -7.0336, -6.6628, -7.0926, -7.0116, -7.1239, -7.1621, -6.0962, -6.3789, -6.294, -5.5291, -6.935, -6.0772, -4.9376, -6.6348, -6.5386, -6.1145, -4.4486, -6.4591, -5.4304, -5.2061, -6.4053, -6.6016, -6.454, -6.062, -5.6023, -6.0505, -5.9004, -6.0588, -5.581, -5.7667, -5.4836, -6.222, -5.5692, -5.6462, -5.8762, -6.0612, -6.0624, -5.6449, -5.9965, -5.7525, -5.8382, -5.9514, -5.9407, -5.9539, -5.8825, -5.357, -6.4835, -6.4951, -6.6537, -6.7792, -6.7099, -5.9463, -6.9459, -7.0043, -6.4541, -7.2143, -7.2256, -7.2572, -7.2781, -7.0223, -7.1946, -7.3508, -7.3483, -7.3104, -7.3002, -7.4058, -7.416, -7.4156, -7.4048, -7.4015, -6.6947, -7.486, -7.4341, -7.4943, -7.1264, -6.6451, -7.0415, -7.1266, -7.0297, -7.0642, -7.2864, -7.0019, -7.0423, -6.8171, -5.9147, -6.7343, -6.7463, -5.6524, -6.4638, -5.933, -6.7263, -6.3354, -6.3439, -6.4119, -6.8296, -5.71, -6.2354, -5.8906, -6.5961, -5.9083, -6.1961, -5.549, -6.6597, -6.0238, -5.5245, -6.1123, -6.1837, -5.9291, -5.8298, -6.4398, -5.6849, -6.0814, -6.2425, -5.4863, -5.7454, -6.1066, -5.951, -6.0036, -6.151, -6.2066, -6.2581, -6.0014, -6.0074, -6.0786, -6.0583, -6.191, -6.1968, -4.8826, -5.2905, -5.7449, -6.0832, -6.1548, -6.1718, -6.1936, -6.2699, -5.8314, -6.4851, -6.6312, -6.626, -6.7466, -6.7632, -6.7791, -6.8185, -6.9047, -6.9593, -7.0577, -6.9873, -7.0698, -7.0462, -7.0938, -7.1449, -7.1547, -7.1792, -7.1944, -7.0687, -7.2543, -7.2643, -6.1707, -6.5261, -6.5877, -6.9862, -7.0352, -5.6233, -5.8193, -6.9119, -6.6037, -5.8069, -6.1251, -6.7412, -3.8702, -6.5131, -6.0348, -6.6405, -5.6505, -4.9618, -4.4029, -6.0588, -6.2612, -6.0055, -6.0323, -5.2833, -5.5371, -5.1218, -6.1946, -5.1074, -5.5713, -5.9196, -5.382, -5.3736, -5.4151, -5.7477, -5.7661, -5.7118, -5.7093, -5.884, -5.8957, -5.945, -5.9036, -5.9215, -5.8892, -5.9249, -5.105, -5.7529, -6.0443, -6.1925, -6.2731, -6.3303, -6.4394, -6.4909, -6.4908, -6.5315, -6.5882, -6.6794, -6.7346, -6.7281, -6.7629, -6.8134, -6.8548, -6.8596, -6.9012, -6.8281, -6.9862, -7.0128, -6.9907, -7.0225, -7.0365, -7.0366, -7.045, -7.0588, -7.0529, -7.0822, -5.6216, -6.2715, -6.3024, -5.9928, -6.727, -5.59, -5.9301, -6.7081, -4.5999, -6.4553, -6.1958, -5.6542, -6.1711, -6.2306, -5.3786, -5.0638, -6.1341, -6.3509, -6.0138, -6.3021, -6.1305, -5.0546, -5.6949, -5.5401, -5.6509, -5.2862, -5.131, -5.4766, -5.444, -5.4947, -5.5008, -5.442, -5.7413, -5.7965, -5.6847, -5.9764, -5.9178, -5.8327, -5.969, -5.9701, -5.9897, -5.9908, -6.2624, -6.3205, -6.3211, -6.4507, -6.4879, -6.4481, -6.5973, -6.7227, -6.5947, -6.9285, -6.9285, -6.9841, -7.0277, -6.9085, -7.0891, -7.1221, -7.1382, -7.1115, -7.1797, -7.1868, -7.2081, -7.1862, -7.2871, -7.3291, -7.3608, -7.12, -7.429, -7.4445, -7.462, -7.4507, -7.0829, -7.2612, -5.5069, -6.6637, -7.2301, -5.7591, -7.0476, -6.5389, -6.0493, -6.6361, -5.314, -6.6183, -6.3251, -5.4992, -6.6316, -6.4735, -5.1401, -5.3278, -5.5576, -4.6487, -4.905, -5.6942, -5.4079, -5.4518, -5.9359, -4.9739, -6.2108, -5.829, -5.1022, -5.9585, -5.1843, -6.1294, -5.9247, -5.9935, -5.6292, -5.9381, -6.0296, -5.7341, -5.771, -5.9998, -5.5684, -5.5556, -5.7222, -5.7428, -5.8847, -5.9529, -5.9486]}, \"token.table\": {\"Topic\": [1, 3, 4, 1, 4, 1, 2, 3, 4, 5, 1, 3, 1, 2, 3, 4, 1, 3, 4, 1, 2, 3, 4, 5, 2, 4, 1, 2, 1, 2, 3, 4, 5, 1, 1, 2, 3, 4, 5, 1, 2, 3, 4, 5, 5, 4, 4, 4, 1, 4, 2, 4, 1, 2, 1, 2, 3, 1, 5, 5, 1, 1, 2, 3, 4, 5, 1, 1, 1, 4, 4, 5, 1, 3, 3, 1, 2, 3, 4, 5, 3, 5, 1, 2, 1, 2, 4, 1, 3, 5, 1, 2, 4, 1, 4, 1, 3, 1, 3, 4, 5, 1, 2, 3, 4, 1, 2, 3, 4, 1, 3, 4, 4, 3, 1, 2, 1, 5, 1, 2, 3, 4, 5, 4, 4, 5, 1, 2, 3, 4, 5, 1, 4, 1, 4, 4, 3, 3, 5, 5, 5, 5, 2, 2, 1, 1, 2, 3, 4, 5, 1, 3, 2, 1, 3, 1, 2, 4, 1, 2, 3, 4, 5, 1, 3, 1, 2, 1, 2, 3, 4, 5, 1, 2, 3, 1, 3, 2, 5, 3, 5, 1, 2, 3, 4, 5, 1, 4, 5, 1, 1, 2, 1, 2, 3, 4, 5, 2, 1, 2, 4, 5, 2, 2, 4, 4, 2, 1, 2, 1, 2, 3, 3, 2, 1, 2, 4, 1, 3, 1, 3, 1, 2, 4, 5, 1, 4, 5, 1, 3, 1, 3, 5, 2, 4, 1, 2, 3, 4, 2, 5, 1, 2, 3, 4, 5, 2, 3, 2, 2, 5, 4, 4, 4, 1, 2, 3, 4, 5, 1, 2, 3, 4, 5, 1, 1, 3, 5, 1, 3, 5, 1, 3, 5, 1, 3, 4, 5, 1, 3, 4, 5, 1, 3, 4, 5, 5, 4, 1, 2, 3, 4, 1, 2, 1, 2, 5, 1, 2, 3, 4, 5, 1, 1, 2, 3, 4, 5, 3, 1, 1, 3, 4, 5, 1, 3, 4, 5, 2, 4, 2, 1, 3, 1, 3, 1, 2, 3, 4, 5, 1, 2, 3, 4, 5, 3, 5, 1, 3, 3, 2, 1, 3, 1, 2, 3, 4, 3, 1, 2, 3, 4, 5, 2, 2, 1, 1, 4, 1, 2, 3, 4, 5, 1, 2, 3, 1, 2, 1, 2, 3, 4, 3, 1, 2, 3, 5, 5, 2, 1, 2, 3, 4, 5, 4, 2, 5, 1, 2, 5, 1, 2, 1, 2, 3, 4, 1, 2, 4, 1, 2, 3, 4, 1, 1, 2, 3, 2, 4, 3, 2, 2, 4, 5, 1, 2, 4, 5, 1, 2, 1, 2, 1, 2, 3, 4, 5, 1, 2, 3, 4, 5, 1, 2, 1, 3, 4, 1, 2, 3, 3, 1, 3, 3, 1, 2, 3, 4, 5, 1, 4, 2, 4, 2, 4, 1, 2, 1, 2, 3, 4, 5, 2, 4, 3, 5, 1, 2, 1, 2, 3, 4, 5, 1, 2, 3, 4, 5, 4, 2, 4, 5, 2, 4, 5, 3, 3, 5, 1, 1, 2, 4, 1, 2, 3, 1, 5, 1, 3, 4, 5, 1, 3, 4, 5, 1, 5, 1, 2, 3, 4, 5, 2, 3, 4, 5, 3, 2, 4, 1, 2, 3, 4, 5, 2, 5, 4, 1, 2, 3, 1, 3, 1, 3, 5, 1, 2, 1, 2, 4, 3, 1, 4, 1, 3, 1, 3, 1, 2, 4, 2, 4, 1, 1, 3, 5, 1, 2, 3, 4, 1, 1, 2, 3, 4, 1, 2, 3, 4, 1, 2, 3, 4, 5, 5, 3, 4, 5, 1, 3, 4, 2, 1, 2, 2, 4, 4, 5, 2, 1, 3, 5, 3, 1, 2, 3, 4, 5, 5, 5, 1, 3, 1, 2, 1, 2, 3, 4, 5, 5, 1, 2, 3, 4, 5, 1, 2, 3, 4, 3, 3, 5, 2, 4, 2, 4, 2, 4, 1, 2, 4, 5, 1, 2, 1, 5, 1, 2, 2, 1, 2, 3, 4, 1, 2, 3, 4, 1, 3, 4, 1, 2, 4, 1, 3, 1, 1, 2, 3, 4, 5, 4, 2, 1, 2, 3, 4, 3, 3, 3, 1, 4, 1, 2, 3, 4, 5, 1, 2, 3, 4, 5, 5, 1, 2, 4, 1, 2, 4, 1, 2, 3, 4, 5, 1, 2, 1, 2, 3, 4, 5, 1, 2, 3, 4, 5, 1, 2, 3, 4, 5, 3, 1, 3, 5, 5, 1, 3, 1, 3, 3, 1, 2, 4, 4, 4, 1, 3, 5, 1, 3, 5, 1, 2, 1, 2, 3, 4, 5, 1, 2, 4, 1, 2, 4, 5, 2, 1, 3, 4, 1, 2, 4, 4, 2, 2, 2, 3, 5, 5, 2, 4, 2, 4, 5, 1], \"Freq\": [0.8003861350689511, 0.1252205206740994, 0.07322837466321601, 0.9961332575961486, 0.0022087211920091988, 0.196631910173815, 0.25802377353125044, 0.030251063103663847, 0.21531639032607797, 0.2998414195863152, 0.6011660969401988, 0.39893049750870335, 0.4179675678881884, 0.045709792014284066, 0.4941505545786618, 0.04224692898289891, 0.9994671025790093, 0.9974241881883771, 0.9958311887085158, 0.11997366319720128, 0.21771082847423162, 0.5026482785675846, 0.1478985675620671, 0.011893940747998403, 0.04221140826180109, 0.9567919206008246, 0.9752205231251645, 0.024713190644497344, 0.3406040479427828, 0.22061492387719855, 0.27267369728131446, 0.08983312727661466, 0.07650100238043864, 0.99834475080007, 0.17381632705844532, 0.11144693911394435, 0.0439653062559597, 0.07566122471955855, 0.5940428589468043, 0.37353404073019714, 0.1750940815922799, 0.11304319653677018, 0.08969731899113287, 0.2482035402220389, 0.9919408327965537, 0.9979730260777432, 0.9934743889736045, 0.9942241283296955, 0.9988010974120042, 0.9978757959671047, 0.09376227604096324, 0.906368668395978, 0.08523138792827974, 0.9134231762879791, 0.05694322812082, 0.9421515925444763, 0.9981772302233426, 0.010488969073792532, 0.985963092936498, 0.993546662672151, 0.9996781337162918, 0.30637316856951596, 0.3820824919634765, 0.07862122044757436, 0.1287474482990702, 0.10420431599003904, 0.9989867530210546, 0.9994085606174746, 0.9992592943916769, 0.9984168315919617, 0.9957457121925107, 0.994191582797176, 0.0023294438522237625, 0.9946725248995465, 0.9965589458370037, 0.3732084089840573, 0.19993307624145928, 0.23465013754230182, 0.10942073784997694, 0.08245302058950103, 0.9987765383978064, 0.9913374999467998, 0.02437959887591855, 0.973152321797082, 0.9294477718876936, 0.016551809636356187, 0.05220186116081567, 0.09537084637407135, 0.8384686910387107, 0.06622975442643844, 0.04527199001672311, 0.3432248545453891, 0.6116982837143284, 0.9923892544054067, 0.00813433815086399, 0.30154433130189084, 0.6983325428564522, 0.1665497660470833, 0.8332640653972018, 0.9920888048942381, 0.9960080688560927, 0.1459227924398788, 0.2266095129654588, 0.013733909876694475, 0.6137340976147843, 0.208474510184272, 0.15406892207613634, 0.19354908335814627, 0.4434296163503799, 0.9988519644874473, 0.9946451822370671, 0.9997215953236473, 0.9969356038299275, 0.9952812459045894, 0.0027981961959316634, 0.9961578457516721, 0.9988929333308815, 0.9899697427361961, 0.2392344209900785, 0.10544455522311516, 0.22789629677253923, 0.0385496223396335, 0.3877638482398429, 0.9962092535701816, 0.996274634611324, 0.9912575988364373, 0.8749482655664057, 0.07635161751404955, 0.0024074834351276884, 0.015476679225820855, 0.03095335845164171, 0.9963782344681912, 0.0025320920825112865, 0.9943709280314366, 0.004641171192678817, 0.9955711769793221, 0.9984598502476913, 0.9978637635114718, 0.9960541757825202, 0.9939690068352651, 0.9895368742785524, 0.9919702398150684, 0.9983644562181709, 0.9979640810327715, 0.9984658161292005, 0.130944007987698, 0.3359160204911684, 0.10192800621769674, 0.2763960168603966, 0.15475200944000672, 0.0021911843119549316, 0.994797677627539, 0.9977226893288583, 0.006423596058055607, 0.9924455909695914, 0.08776990378706988, 0.8973181928348674, 0.014456219447282098, 0.12932479996683166, 0.077594879980099, 0.6871082850411665, 0.02811408694931123, 0.077594879980099, 0.03337046225358432, 0.9653598009072606, 0.012193836184707608, 0.9856684249305316, 0.08960883890806988, 0.15681546808912228, 0.07040694485634062, 0.14721452106325766, 0.5360528756107752, 0.02296766280718953, 0.07043416594204789, 0.9064570921237467, 0.029436572608418195, 0.970541114530494, 0.0892823775413773, 0.9085794890975455, 0.017312647880016557, 0.9781646052209354, 0.04364417547605993, 0.007039383141299989, 0.03378903907823994, 0.3787188130019394, 0.5364009953670591, 0.9613983676511395, 0.008091119415158374, 0.030052729256302528, 0.9995893535575522, 0.9558933066543401, 0.04361964241577823, 0.17281055288241168, 0.174139864827661, 0.36689009688881247, 0.2860679306176538, 0.0002658623890498641, 0.9981241116799126, 0.18901975964118514, 0.7241557013808959, 0.07812816731835652, 0.007560790385647405, 0.9981517857219002, 0.997797687916848, 0.9965085293583863, 0.9962300732726899, 0.9958581243309005, 0.18746540735690204, 0.812574877212471, 0.028115620558131802, 0.9713946902834537, 0.9964870635264016, 0.996831307562689, 0.999107276786327, 0.1375291227364267, 0.8488667281504657, 0.013290629508142077, 0.9668320188470901, 0.03222773396156967, 0.9988883097678474, 0.9967558572285123, 0.03283665126006592, 0.282058414669797, 0.04546613251393743, 0.639893716862823, 0.03651999947791597, 0.0018259999738957984, 0.96047598626919, 0.16749901148679394, 0.8319117570510766, 0.22512121516983374, 0.7749021859728666, 0.9924743118099453, 0.008907738180963827, 0.9917281841473062, 0.5153671679803089, 0.04406485079385541, 0.4090367671516578, 0.0320907065563947, 0.9982242416975077, 0.9918864298761996, 0.0008031073487043018, 0.9436511347275546, 0.0008031073487043018, 0.01365282492797313, 0.04095847478391939, 0.9827103375343162, 0.014917803985340664, 0.9958467609616777, 0.9975799505182679, 0.995901869605515, 0.9948677145959642, 0.9964879423631717, 0.9948031641738521, 0.30738561475369863, 0.20867234822710437, 0.3205057324566004, 0.08715506759784748, 0.07653401993359367, 0.5274349389436896, 0.08181183195053764, 0.38712079140840994, 0.0036563947240463752, 0.9907639065521281, 0.9978827201829263, 0.36295907846764125, 0.5041694891732472, 0.1328881241431083, 0.3416951212719179, 0.31614425840895083, 0.3420764774340518, 0.19001207439203308, 0.2425309396743031, 0.5670857251265335, 0.3141019833906856, 0.02311118272439827, 0.001050508305654467, 0.6618202325623141, 0.09359503546794092, 0.0029248448583731536, 0.008774534575119461, 0.895002526662185, 0.2660194108875414, 0.04963048710588458, 0.003970438968470767, 0.6809302830927365, 0.9847028057767033, 0.997614789782146, 0.025143650534517177, 0.10488494222970023, 0.04310340091631516, 0.8268669075779792, 0.002797819679423002, 0.9960238058745887, 0.35455963099191967, 0.10349308147872249, 0.5404638699444397, 0.362771634990781, 0.1230506802104408, 0.37917839235217315, 0.10436520654885535, 0.030990541682629536, 0.9985081310123716, 0.23408202710636464, 0.5365715872483792, 0.053799674418662194, 0.12790783520728297, 0.04774275743113069, 0.9953217863814547, 0.9981161330654734, 0.21863885150321963, 0.5439523039414779, 0.02380342334914085, 0.2136430712941407, 0.018666373673766334, 0.5183508381715113, 0.014358748979820259, 0.4479929681703921, 0.1338876317003314, 0.8651200817559875, 0.9989516628381114, 0.039589827102736536, 0.9595323884636934, 0.01635585158747587, 0.9813510952485522, 0.11785647523556467, 0.21812243177925403, 0.2418696320132857, 0.40634098178232, 0.015831466822687792, 0.08438578898080586, 0.07654996571830246, 0.48943757608867394, 0.29535026143282045, 0.053645251566369435, 0.3214811354059965, 0.6771293480049009, 0.0010969721748130576, 0.9982446790798823, 0.9960926369849437, 0.9956085143159695, 0.003645724245199343, 0.9952827189394207, 0.6535599471727643, 0.2585246371441249, 0.030805505827921423, 0.05738280497357912, 0.9978025528586263, 0.48950325838493586, 0.28695018594979, 0.12369019587228171, 0.06115331831716836, 0.0384629468148706, 0.9980469725182869, 0.9989877576700013, 0.9994654511826994, 0.99783463492438, 0.996900732338988, 0.2005856572746463, 0.5021168080150582, 0.0013053296568849, 0.2023260968171595, 0.0935486254100845, 0.0018171294966724035, 0.9976040936731495, 0.9975873996446181, 0.0068851793333286285, 0.9931871188326546, 0.13452725699833604, 0.6241182578775262, 0.0573394865894547, 0.18451552735837348, 0.9977280496184955, 0.0506255225637238, 0.9490760615560752, 0.13378113030391003, 0.8621450619585314, 0.9952533765358588, 0.9992532915161798, 0.3853084477454855, 0.2274903301072661, 0.12984366869231428, 0.07917296871482579, 0.1784030895040741, 0.99885962025498, 0.9954780958356475, 0.9896709195268122, 0.029060619513690246, 0.9517352890733556, 0.019373746342460165, 0.036989343918863556, 0.9625270580626015, 0.05061382376492578, 0.8333624936178478, 0.01530185369637291, 0.1000505818608998, 0.0063681177550652165, 0.8214871904034129, 0.17193917938676084, 0.6475674321067328, 0.13959270402851748, 0.17928519814525248, 0.0334487309972486, 0.9991767484094284, 0.004899599935585442, 0.10656629859898335, 0.8880524883248613, 0.07981066421625828, 0.9191986844217332, 0.9998215943076516, 0.9969456607183788, 0.14401246986229965, 0.6779663965825183, 0.17613832852388958, 0.6964944732105517, 0.23962339060806948, 0.0008136617677693361, 0.06305878700212354, 0.9894276943072738, 0.008847341528828082, 0.7381132051586844, 0.2619111373143719, 0.14750312749982208, 0.31353152930649386, 0.07654783156981289, 0.18665087697844787, 0.275781913737819, 0.1801219008260281, 0.23879017709507727, 0.1384365466348616, 0.20276579692987165, 0.2398194450997974, 0.016954710217039325, 0.9814893358974988, 0.0518208567725027, 0.9480168503675493, 0.997800412500406, 0.025644431621542757, 0.9744884016186247, 0.9969323509615985, 0.999221736956643, 0.0030730173101464827, 0.9956576084874604, 0.9993140117350819, 0.1861807698416751, 0.35684647552987725, 0.10688155305725792, 0.10918008107999466, 0.24077081038167242, 0.14077409147322267, 0.8576390803599413, 0.03389795844825845, 0.9650948169974759, 0.05917625448917677, 0.9409024463779108, 0.8396581383004248, 0.16000885891756475, 0.1211377777808664, 0.685123497285228, 0.08102330054851392, 0.11041410564944544, 0.0019858652095224, 0.007526930169620899, 0.9920493963560345, 0.017684688958173045, 0.9785527890189085, 0.0008607884158308724, 0.9985145623638119, 0.38451973336063067, 0.2454711833170895, 0.13244568593532835, 0.0730199089614127, 0.1646831989342499, 0.07031668859056214, 0.4528195265264569, 0.028425895387674056, 0.3800093383404848, 0.06832188891423413, 0.9988051999625793, 0.03698556578186587, 0.9616247103285126, 0.9850243482665657, 0.1087668586023699, 0.8800227650555383, 0.009887896236579083, 0.9992158563801389, 0.09471622803386269, 0.8998041663216955, 0.9983510262245872, 0.031050781297068772, 0.603868179553442, 0.3647308191163153, 0.1777606665926068, 0.8193029219644209, 0.002673092730715892, 0.9983126203489382, 0.996945051247883, 0.15875004185516534, 0.19073699058717625, 0.23930976458763728, 0.41109152629658485, 0.13192975978282287, 0.3332246509978516, 0.09384694252592556, 0.44067259968695477, 0.997511995103811, 0.9928357288298828, 0.003133013009967832, 0.12114316971875617, 0.1973798196279734, 0.09816774097899207, 0.5806517445140382, 0.03733613985797312, 0.15051131380245417, 0.06767175349257629, 0.7443892884183392, 0.9946606393018195, 0.004556934158655681, 0.9934116465869384, 0.262408288184303, 0.3123328348922214, 0.0919342262548254, 0.2837175459254877, 0.04992454670791843, 0.9972025646956987, 0.9901276848750873, 0.9943995533743555, 0.20424788980033465, 0.7379056759453168, 0.05776707994352899, 0.919434310364518, 0.0804886283492713, 0.9993710533531734, 0.000319696434214067, 0.995662019580198, 0.0009555803802282586, 0.9990592875286444, 0.08004335544447835, 0.30969155380304125, 0.6098541367198351, 0.9954713176916749, 0.9852272768268727, 0.014801536553267571, 0.3292454398027147, 0.6708429077480926, 0.3019795797198436, 0.6968116063895561, 0.997792833488522, 0.07918505736251695, 0.9199440487704176, 0.008875370402559084, 0.9851661146840582, 0.9995687653685028, 0.9983594795636358, 0.12609018769137842, 0.8695875013198511, 0.6267210961630053, 0.04290227670311044, 0.31828851229740046, 0.012174970415747558, 0.9970561909941662, 0.28742774281991784, 0.0881311545928668, 0.49573774458487574, 0.12869151551344754, 0.06407983754122303, 0.001582218210894396, 0.8631000340428929, 0.07199092859569502, 0.2537898022917906, 0.28902366837196614, 0.2723339423339882, 0.12053691027428468, 0.06410974128874042, 0.9881077039062088, 0.2766380913697283, 0.016272828904101665, 0.7051559191777388, 0.8926500135912363, 0.04785974003022369, 0.059714904991838735, 0.9984678390944901, 0.0025688796941369207, 0.9967253213251253, 0.010856710754291897, 0.9879606786405626, 0.9948525958353522, 0.990801892409726, 0.9966962203861542, 0.16806670880615757, 0.1361201443223425, 0.6944905322568495, 0.9971253825299149, 0.4942331557505102, 0.0012870655097669537, 0.04890848937114424, 0.04118609631254252, 0.41443509414495905, 0.996117114116093, 0.9942248740491176, 0.4135000986652967, 0.586246838563884, 0.007674212019420607, 0.9925314211783985, 0.19267227938902523, 0.4486195273787156, 0.06137671954264515, 0.2496197511296238, 0.04777260129350215, 0.994424671565069, 0.8117840228598026, 0.029968139823271758, 0.020272565174566187, 0.13750087683618806, 0.0008814158771550517, 0.7828863249550698, 0.024555475136967132, 0.014444397139392431, 0.17766608481452692, 0.9969751896858903, 0.0849605742457837, 0.9144440754348824, 0.005773624562742553, 0.9930634247917192, 0.9485313528028585, 0.04992270277909781, 0.052743667556943576, 0.94411164926929, 0.08629762367925517, 0.0420536643310076, 0.3276681345791009, 0.5440692822824108, 0.00253598014738472, 0.9966401979221949, 0.05516007570602284, 0.9427358393392995, 0.001429469919319318, 0.997770003684884, 0.9988005593298246, 0.30884809739717906, 0.6332802731033901, 0.03825182857671484, 0.019834281484222508, 0.15109502429107152, 0.7493702719890517, 0.00228931854986472, 0.09691448527760649, 0.03672509237684805, 0.9590899124569162, 0.004237510658867082, 0.6199628250253736, 0.3601384964126813, 0.01985015334558086, 0.9984391338800649, 0.0016837084888365343, 0.9988410466826453, 0.2402286454709442, 0.188533873660741, 0.32406974596984517, 0.19809089029792143, 0.04908831272733579, 0.9956381120915131, 0.99846491772682, 0.24383614187888583, 0.6123612199458383, 0.0003463581560779628, 0.1433922766162766, 0.9985505129117723, 0.9994033904905948, 0.9985441587220586, 0.9949750880105176, 0.00476064635411731, 0.20574819960775953, 0.47530438516982426, 0.2812760197169371, 0.036461706259602954, 0.0013022037949858198, 0.21421476265260483, 0.6718252463377359, 0.023212125984028387, 0.019896107986310044, 0.07096278515117249, 0.9944125785940653, 0.003449338755750224, 0.678369955297544, 0.3179140553216456, 0.003049943510512541, 0.9241328836853, 0.07319864425230099, 0.19547750168181913, 0.366106168404085, 0.19989507234129528, 0.03920593960285073, 0.19934287600886075, 0.0026246076039487714, 0.9947262818965843, 0.4936957828075899, 0.23750444252282102, 0.18053954450656065, 0.07414478789418016, 0.014165874109863691, 0.3824457152840968, 0.08401266532470324, 0.45109785597853713, 0.07178694163939194, 0.010344843118340323, 0.03387988301950531, 0.5928979528413428, 0.06587755031570476, 0.28233235849587757, 0.024468804402976052, 0.9993591260819079, 0.03149214193055951, 0.965759019203825, 0.9936255264454338, 0.9956446761976029, 0.9847488389966027, 0.014969037726332722, 0.9827899572982166, 0.01622211758951664, 0.9964973527144577, 0.1710218675931256, 0.7708621125502952, 0.05813058553657964, 0.9960954833615291, 0.9988417756616034, 0.06888336211242817, 0.9305516009006205, 0.001252424765680512, 0.005358762142399169, 0.9806534720590481, 0.010717524284798339, 0.004922963945117756, 0.9944387169137866, 0.5046196902459283, 0.2875310949092004, 0.0675619512628176, 0.056039758024197535, 0.08432150506444676, 0.9973890688167795, 0.053488409220325925, 0.944961896225758, 0.005494472801610947, 0.12774649263745452, 0.1387354382406764, 0.7280176462134504, 0.9986429955672566, 0.15737320029752538, 0.8418915959972513, 0.9971935648660687, 0.03259689112637226, 0.6076552534501093, 0.3597958737533542, 0.9932157620163717, 0.998393024674456, 0.9964295168273059, 0.04291035439841228, 0.04291035439841228, 0.911845030966261, 0.9939999920867079, 0.05687372174043697, 0.939652793972437, 0.08546439306456237, 0.8886354506144837, 0.02525084340543888, 0.9995940410526073], \"Term\": [\"acid\", \"acid\", \"acid\", \"acids\", \"acids\", \"across\", \"across\", \"across\", \"across\", \"across\", \"activation\", \"activation\", \"activity\", \"activity\", \"activity\", \"activity\", \"adenosine\", \"adult\", \"aerosol\", \"after\", \"after\", \"after\", \"after\", \"after\", \"ago\", \"ago\", \"alpha\", \"alpha\", \"also\", \"also\", \"also\", \"also\", \"also\", \"amino\", \"among\", \"among\", \"among\", \"among\", \"among\", \"analysis\", \"analysis\", \"analysis\", \"analysis\", \"analysis\", \"ancestral\", \"annual\", \"antarctic\", \"anthropogenic\", \"assembly\", \"atlantic\", \"atmospheric\", \"atmospheric\", \"atomic\", \"atomic\", \"atoms\", \"atoms\", \"behavioral\", \"benefit\", \"benefit\", \"benefits\", \"beta\", \"between\", \"between\", \"between\", \"between\", \"between\", \"bind\", \"binding\", \"binds\", \"biodiversity\", \"biomass\", \"birds\", \"blood\", \"blood\", \"bone\", \"both\", \"both\", \"both\", \"both\", \"both\", \"brain\", \"breeding\", \"bulk\", \"bulk\", \"calcium\", \"calcium\", \"calcium\", \"cancer\", \"cancer\", \"cancer\", \"carbon\", \"carbon\", \"carbon\", \"catalytic\", \"catalytic\", \"cell\", \"cell\", \"cells\", \"cells\", \"century\", \"cftr\", \"change\", \"change\", \"change\", \"change\", \"changes\", \"changes\", \"changes\", \"changes\", \"chromatin\", \"chronic\", \"climate\", \"climatic\", \"clinical\", \"coherent\", \"coherent\", \"coli\", \"colorectal\", \"common\", \"common\", \"common\", \"common\", \"common\", \"communities\", \"community\", \"comparative\", \"complex\", \"complex\", \"complex\", \"complex\", \"complex\", \"complexes\", \"complexes\", \"conserved\", \"conserved\", \"coral\", \"cortex\", \"cortical\", \"cost\", \"costs\", \"crop\", \"crops\", \"crust\", \"cubic\", \"cytoplasmic\", \"data\", \"data\", \"data\", \"data\", \"data\", \"death\", \"death\", \"deformation\", \"dendritic\", \"dendritic\", \"density\", \"density\", \"density\", \"development\", \"development\", \"development\", \"development\", \"development\", \"developmental\", \"developmental\", \"devices\", \"devices\", \"differences\", \"differences\", \"differences\", \"differences\", \"differences\", \"differentiation\", \"differentiation\", \"differentiation\", \"disease\", \"disease\", \"divergence\", \"divergence\", \"diversification\", \"diversification\", \"diversity\", \"diversity\", \"diversity\", \"diversity\", \"diversity\", \"dna\", \"dna\", \"dna\", \"domain\", \"domains\", \"domains\", \"during\", \"during\", \"during\", \"during\", \"during\", \"dust\", \"dynamics\", \"dynamics\", \"dynamics\", \"dynamics\", \"earthquake\", \"earthquakes\", \"ecosystem\", \"ecosystems\", \"electric\", \"electron\", \"electron\", \"electronic\", \"electronic\", \"embryonic\", \"embryos\", \"emission\", \"energy\", \"energy\", \"energy\", \"enzyme\", \"enzyme\", \"enzymes\", \"epithelial\", \"evolution\", \"evolution\", \"evolution\", \"evolution\", \"evolutionary\", \"evolutionary\", \"evolutionary\", \"expressed\", \"expressed\", \"expression\", \"expression\", \"extant\", \"extinction\", \"extinction\", \"factor\", \"factor\", \"factor\", \"factor\", \"fault\", \"females\", \"field\", \"field\", \"field\", \"field\", \"field\", \"fields\", \"fields\", \"film\", \"films\", \"fitness\", \"forcing\", \"forest\", \"forests\", \"found\", \"found\", \"found\", \"found\", \"found\", \"function\", \"function\", \"function\", \"function\", \"fungi\", \"fusion\", \"gene\", \"gene\", \"gene\", \"genes\", \"genes\", \"genes\", \"genetic\", \"genetic\", \"genetic\", \"genome\", \"genome\", \"genome\", \"genome\", \"genomes\", \"genomes\", \"genomes\", \"genomes\", \"genomic\", \"genomic\", \"genomic\", \"genomic\", \"genotypes\", \"glacial\", \"global\", \"global\", \"global\", \"global\", \"graphene\", \"graphene\", \"groups\", \"groups\", \"groups\", \"growth\", \"growth\", \"growth\", \"growth\", \"growth\", \"guanosine\", \"high\", \"high\", \"high\", \"high\", \"high\", \"hippocampal\", \"histone\", \"human\", \"human\", \"human\", \"human\", \"humans\", \"humans\", \"humans\", \"humans\", \"ice\", \"ice\", \"images\", \"immune\", \"immune\", \"immunity\", \"immunity\", \"increase\", \"increase\", \"increase\", \"increase\", \"increase\", \"increased\", \"increased\", \"increased\", \"increased\", \"increased\", \"individuals\", \"individuals\", \"infection\", \"infection\", \"inflammatory\", \"infrared\", \"innate\", \"innate\", \"interactions\", \"interactions\", \"interactions\", \"interactions\", \"intestinal\", \"its\", \"its\", \"its\", \"its\", \"its\", \"kelvin\", \"kilometers\", \"kinase\", \"kinases\", \"land\", \"large\", \"large\", \"large\", \"large\", \"large\", \"laser\", \"laser\", \"learning\", \"liquid\", \"liquid\", \"low\", \"low\", \"low\", \"low\", \"macrophages\", \"magnetic\", \"magnetic\", \"male\", \"male\", \"males\", \"mantle\", \"many\", \"many\", \"many\", \"many\", \"many\", \"marine\", \"mars\", \"mate\", \"material\", \"material\", \"material\", \"materials\", \"materials\", \"measured\", \"measured\", \"measured\", \"measured\", \"measurements\", \"measurements\", \"measurements\", \"mechanism\", \"mechanism\", \"mechanism\", \"mechanism\", \"membrane\", \"memory\", \"memory\", \"memory\", \"methane\", \"methane\", \"mice\", \"micrometers\", \"million\", \"million\", \"million\", \"molecular\", \"molecular\", \"molecular\", \"molecular\", \"molecule\", \"molecule\", \"molecules\", \"molecules\", \"more\", \"more\", \"more\", \"more\", \"more\", \"most\", \"most\", \"most\", \"most\", \"most\", \"motion\", \"motion\", \"mouse\", \"mouse\", \"mrnas\", \"nanometers\", \"nanometers\", \"nervous\", \"neural\", \"neuronal\", \"neuronal\", \"neurons\", \"new\", \"new\", \"new\", \"new\", \"new\", \"nitrogen\", \"nitrogen\", \"north\", \"north\", \"northern\", \"northern\", \"nuclear\", \"nuclear\", \"observed\", \"observed\", \"observed\", \"observed\", \"observed\", \"ocean\", \"ocean\", \"offspring\", \"offspring\", \"optical\", \"optical\", \"other\", \"other\", \"other\", \"other\", \"other\", \"over\", \"over\", \"over\", \"over\", \"over\", \"ozone\", \"pacific\", \"pacific\", \"parental\", \"past\", \"past\", \"past\", \"patients\", \"people\", \"people\", \"peptide\", \"per\", \"per\", \"per\", \"phase\", \"phase\", \"phase\", \"phosphorylation\", \"phylogenetic\", \"plant\", \"plant\", \"plant\", \"plant\", \"plants\", \"plants\", \"plants\", \"plants\", \"polymer\", \"polymorphisms\", \"population\", \"population\", \"population\", \"population\", \"population\", \"populations\", \"populations\", \"populations\", \"populations\", \"postsynaptic\", \"precipitation\", \"precipitation\", \"present\", \"present\", \"present\", \"present\", \"present\", \"pressures\", \"prey\", \"productivity\", \"properties\", \"properties\", \"properties\", \"protein\", \"protein\", \"proteins\", \"proteins\", \"public\", \"quantum\", \"quantum\", \"rates\", \"rates\", \"rates\", \"rats\", \"reaction\", \"reaction\", \"receptor\", \"receptor\", \"receptors\", \"receptors\", \"recombination\", \"record\", \"record\", \"records\", \"records\", \"regulatory\", \"replication\", \"reproductive\", \"reproductive\", \"required\", \"required\", \"required\", \"required\", \"residues\", \"response\", \"response\", \"response\", \"response\", \"responses\", \"responses\", \"responses\", \"responses\", \"results\", \"results\", \"results\", \"results\", \"results\", \"rice\", \"risk\", \"risk\", \"risk\", \"rna\", \"rna\", \"rna\", \"rocks\", \"scattering\", \"scattering\", \"sea\", \"sea\", \"seasonal\", \"seed\", \"seismic\", \"selection\", \"selection\", \"selection\", \"sensory\", \"sequences\", \"sequences\", \"sequences\", \"sequences\", \"sequences\", \"sex\", \"sexual\", \"signaling\", \"signaling\", \"silicon\", \"silicon\", \"similar\", \"similar\", \"similar\", \"similar\", \"similar\", \"sister\", \"site\", \"site\", \"site\", \"site\", \"site\", \"sites\", \"sites\", \"sites\", \"sites\", \"sleep\", \"social\", \"social\", \"soil\", \"soil\", \"solar\", \"solar\", \"southern\", \"southern\", \"species\", \"species\", \"species\", \"species\", \"spectra\", \"spectra\", \"sperm\", \"sperm\", \"spin\", \"spin\", \"stars\", \"state\", \"state\", \"state\", \"state\", \"states\", \"states\", \"states\", \"states\", \"stem\", \"stem\", \"stem\", \"structure\", \"structure\", \"structure\", \"subunit\", \"subunit\", \"subunits\", \"suggest\", \"suggest\", \"suggest\", \"suggest\", \"suggest\", \"sulfate\", \"superconducting\", \"surface\", \"surface\", \"surface\", \"surface\", \"synapses\", \"synaptic\", \"syndrome\", \"synthesis\", \"synthesis\", \"system\", \"system\", \"system\", \"system\", \"system\", \"systems\", \"systems\", \"systems\", \"systems\", \"systems\", \"taxa\", \"temperature\", \"temperature\", \"temperature\", \"thermal\", \"thermal\", \"thermal\", \"they\", \"they\", \"they\", \"they\", \"they\", \"thin\", \"thin\", \"through\", \"through\", \"through\", \"through\", \"through\", \"thus\", \"thus\", \"thus\", \"thus\", \"thus\", \"time\", \"time\", \"time\", \"time\", \"time\", \"tissue\", \"tissues\", \"tissues\", \"trait\", \"traits\", \"transcription\", \"transcription\", \"transcriptional\", \"transcriptional\", \"transgenic\", \"transition\", \"transition\", \"transition\", \"trna\", \"tropical\", \"tumor\", \"tumor\", \"tumor\", \"tumors\", \"tumors\", \"tumors\", \"tunneling\", \"tunneling\", \"two\", \"two\", \"two\", \"two\", \"two\", \"tyrosine\", \"variability\", \"variability\", \"variation\", \"variation\", \"variation\", \"variation\", \"velocity\", \"virus\", \"virus\", \"warming\", \"water\", \"water\", \"water\", \"waters\", \"wave\", \"waves\", \"wild\", \"wild\", \"wild\", \"women\", \"year\", \"year\", \"years\", \"years\", \"years\", \"yeast\"]}, \"R\": 30, \"lambda.step\": 0.01, \"plot.opts\": {\"xlab\": \"PC1\", \"ylab\": \"PC2\"}, \"topic.order\": [5, 2, 3, 4, 1]};\n",
       "\n",
       "function LDAvis_load_lib(url, callback){\n",
       "  var s = document.createElement('script');\n",
       "  s.src = url;\n",
       "  s.async = true;\n",
       "  s.onreadystatechange = s.onload = callback;\n",
       "  s.onerror = function(){console.warn(\"failed to load library \" + url);};\n",
       "  document.getElementsByTagName(\"head\")[0].appendChild(s);\n",
       "}\n",
       "\n",
       "if(typeof(LDAvis) !== \"undefined\"){\n",
       "   // already loaded: just create the visualization\n",
       "   !function(LDAvis){\n",
       "       new LDAvis(\"#\" + \"ldavis_el2686159118445686067198864\", ldavis_el2686159118445686067198864_data);\n",
       "   }(LDAvis);\n",
       "}else if(typeof define === \"function\" && define.amd){\n",
       "   // require.js is available: use it to load d3/LDAvis\n",
       "   require.config({paths: {d3: \"https://cdnjs.cloudflare.com/ajax/libs/d3/3.5.5/d3.min\"}});\n",
       "   require([\"d3\"], function(d3){\n",
       "      window.d3 = d3;\n",
       "      LDAvis_load_lib(\"https://cdn.rawgit.com/bmabey/pyLDAvis/files/ldavis.v1.0.0.js\", function(){\n",
       "        new LDAvis(\"#\" + \"ldavis_el2686159118445686067198864\", ldavis_el2686159118445686067198864_data);\n",
       "      });\n",
       "    });\n",
       "}else{\n",
       "    // require.js not available: dynamically load d3 & LDAvis\n",
       "    LDAvis_load_lib(\"https://cdnjs.cloudflare.com/ajax/libs/d3/3.5.5/d3.min.js\", function(){\n",
       "         LDAvis_load_lib(\"https://cdn.rawgit.com/bmabey/pyLDAvis/files/ldavis.v1.0.0.js\", function(){\n",
       "                 new LDAvis(\"#\" + \"ldavis_el2686159118445686067198864\", ldavis_el2686159118445686067198864_data);\n",
       "            })\n",
       "         });\n",
       "}\n",
       "</script>"
      ],
      "text/plain": [
       "PreparedData(topic_coordinates=              x         y  topics  cluster       Freq\n",
       "topic                                                \n",
       "4      0.053460  0.132376       1        1  30.336979\n",
       "1     -0.181289  0.075772       2        1  28.993152\n",
       "2      0.237837  0.079397       3        1  20.284777\n",
       "3     -0.152396  0.000180       4        1  11.905221\n",
       "0      0.042389 -0.287725       5        1   8.479871, topic_info=      Category         Freq           Term        Total  loglift  logprob\n",
       "6287   Default  7763.000000          cells  7763.000000  30.0000  30.0000\n",
       "6280   Default  5438.000000           cell  5438.000000  29.0000  29.0000\n",
       "35927  Default  5901.000000        protein  5901.000000  28.0000  28.0000\n",
       "26215  Default  2351.000000           mice  2351.000000  27.0000  27.0000\n",
       "35935  Default  3127.000000       proteins  3127.000000  26.0000  26.0000\n",
       "48921  Default  2059.000000          years  2059.000000  25.0000  25.0000\n",
       "41522  Default  2282.000000        species  2282.000000  24.0000  24.0000\n",
       "12198  Default  3460.000000            dna  3460.000000  23.0000  23.0000\n",
       "14949  Default  2802.000000     expression  2802.000000  22.0000  22.0000\n",
       "17095  Default  2622.000000          genes  2622.000000  21.0000  21.0000\n",
       "19700  Default  3402.000000          human  3402.000000  20.0000  20.0000\n",
       "17098  Default  1694.000000        genetic  1694.000000  19.0000  19.0000\n",
       "17064  Default  3724.000000           gene  3724.000000  18.0000  18.0000\n",
       "5813   Default  1899.000000         carbon  1899.000000  17.0000  17.0000\n",
       "36694  Default  2092.000000        quantum  2092.000000  16.0000  16.0000\n",
       "4287   Default  2145.000000        binding  2145.000000  15.0000  15.0000\n",
       "29006  Default  1564.000000        neurons  1564.000000  14.0000  14.0000\n",
       "7316   Default  1105.000000        climate  1105.000000  13.0000  13.0000\n",
       "17433  Default  1392.000000         global  1392.000000  12.0000  12.0000\n",
       "37306  Default  2347.000000       receptor  2347.000000  11.0000  11.0000\n",
       "32672  Default  2157.000000            per  2157.000000  10.0000  10.0000\n",
       "27436  Default  2860.000000           more  2860.000000   9.0000   9.0000\n",
       "14616  Default  1187.000000      evolution  1187.000000   8.0000   8.0000\n",
       "45440  Default  1870.000000  transcription  1870.000000   7.0000   7.0000\n",
       "12662  Default  3761.000000         during  3761.000000   6.0000   6.0000\n",
       "23012  Default  1572.000000         kinase  1572.000000   5.0000   5.0000\n",
       "20230  Default   970.000000            ice   970.000000   4.0000   4.0000\n",
       "8080   Default  2907.000000        complex  2907.000000   3.0000   3.0000\n",
       "17117  Default   951.000000         genome   951.000000   2.0000   2.0000\n",
       "44126  Default  1739.000000    temperature  1739.000000   1.0000   1.0000\n",
       "...        ...          ...            ...          ...      ...      ...\n",
       "17117   Topic5   629.619786         genome   951.920127   2.0541  -5.3278\n",
       "40037   Topic5   500.331325      selection   719.952219   2.1036  -5.5576\n",
       "41522   Topic5  1241.655271        species  2282.797505   1.8585  -4.6487\n",
       "17098   Topic5   960.949912        genetic  1694.629149   1.9002  -4.9050\n",
       "21032   Topic5   436.444049    individuals   643.894702   2.0786  -5.6942\n",
       "1538    Topic5   581.121537          among   978.043909   1.9469  -5.4079\n",
       "34672   Topic5   556.206246     population   957.544699   1.9242  -5.4518\n",
       "17121   Topic5   342.741279        genomic   503.722640   2.0824  -5.9359\n",
       "17095   Topic5   896.979486          genes  2622.220641   1.3947  -4.9739\n",
       "38877   Topic5   260.356081           risk   368.712781   2.1195  -6.2108\n",
       "12131   Topic5   381.418046      diversity   710.289510   1.8457  -5.8290\n",
       "27436   Topic5   788.938936           more  2860.956287   1.1793  -5.1022\n",
       "11407   Topic5   335.083657    differences   624.938351   1.8442  -5.9585\n",
       "19700   Topic5   726.730170          human  3402.871882   0.9237  -5.1843\n",
       "17989   Topic5   282.449114         groups   521.774009   1.8537  -6.1294\n",
       "33985   Topic5   346.593204          plant   844.094266   1.5774  -5.9247\n",
       "33997   Topic5   323.576086         plants   735.239723   1.6467  -5.9935\n",
       "27506   Topic5   465.770284           most  1943.128506   1.0391  -5.6292\n",
       "7969    Topic5   341.976843         common   881.980106   1.5200  -5.9381\n",
       "19709   Topic5   312.076319         humans   696.439503   1.6647  -6.0296\n",
       "29090   Topic5   419.397723            new  1740.244174   1.0445  -5.7341\n",
       "1650    Topic5   404.181758       analysis  1627.696364   1.0744  -5.7710\n",
       "40208   Topic5   321.515718      sequences   776.961229   1.5851  -5.9998\n",
       "17064   Topic5   494.981335           gene  3724.937824   0.4492  -5.5684\n",
       "4133    Topic5   501.318842        between  4807.862277   0.2067  -5.5556\n",
       "31318   Topic5   424.419391          other  2574.640296   0.6647  -5.7222\n",
       "10038   Topic5   415.739334           data  2688.171879   0.6009  -5.7428\n",
       "44702   Topic5   360.763417           they  1810.950094   0.8541  -5.8847\n",
       "423     Topic5   336.954795         across  1123.927443   1.2628  -5.9529\n",
       "25115   Topic5   338.415514           many  1894.586024   0.7450  -5.9486\n",
       "\n",
       "[404 rows x 6 columns], token_table=       Topic      Freq         Term\n",
       "term                               \n",
       "360        1  0.800386         acid\n",
       "360        3  0.125221         acid\n",
       "360        4  0.073228         acid\n",
       "376        1  0.996133        acids\n",
       "376        4  0.002209        acids\n",
       "423        1  0.196632       across\n",
       "423        2  0.258024       across\n",
       "423        3  0.030251       across\n",
       "423        4  0.215316       across\n",
       "423        5  0.299841       across\n",
       "456        1  0.601166   activation\n",
       "456        3  0.398930   activation\n",
       "467        1  0.417968     activity\n",
       "467        2  0.045710     activity\n",
       "467        3  0.494151     activity\n",
       "467        4  0.042247     activity\n",
       "574        1  0.999467    adenosine\n",
       "708        3  0.997424        adult\n",
       "775        4  0.995831      aerosol\n",
       "847        1  0.119974        after\n",
       "847        2  0.217711        after\n",
       "847        3  0.502648        after\n",
       "847        4  0.147899        after\n",
       "847        5  0.011894        after\n",
       "930        2  0.042211          ago\n",
       "930        4  0.956792          ago\n",
       "1297       1  0.975221        alpha\n",
       "1297       2  0.024713        alpha\n",
       "1325       1  0.340604         also\n",
       "1325       2  0.220615         also\n",
       "...      ...       ...          ...\n",
       "46336      3  0.067562          two\n",
       "46336      4  0.056040          two\n",
       "46336      5  0.084322          two\n",
       "46379      1  0.997389     tyrosine\n",
       "47536      2  0.053488  variability\n",
       "47536      4  0.944962  variability\n",
       "47545      1  0.005494    variation\n",
       "47545      2  0.127746    variation\n",
       "47545      4  0.138735    variation\n",
       "47545      5  0.728018    variation\n",
       "47649      2  0.998643     velocity\n",
       "47943      1  0.157373        virus\n",
       "47943      3  0.841892        virus\n",
       "48243      4  0.997194      warming\n",
       "48282      1  0.032597        water\n",
       "48282      2  0.607655        water\n",
       "48282      4  0.359796        water\n",
       "48292      4  0.993216       waters\n",
       "48302      2  0.998393         wave\n",
       "48321      2  0.996430        waves\n",
       "48523      2  0.042910         wild\n",
       "48523      3  0.042910         wild\n",
       "48523      5  0.911845         wild\n",
       "48637      5  0.994000        women\n",
       "48918      2  0.056874         year\n",
       "48918      4  0.939653         year\n",
       "48921      2  0.085464        years\n",
       "48921      4  0.888635        years\n",
       "48921      5  0.025251        years\n",
       "48922      1  0.999594        yeast\n",
       "\n",
       "[766 rows x 3 columns], R=30, lambda_step=0.01, plot_opts={'xlab': 'PC1', 'ylab': 'PC2'}, topic_order=[5, 2, 3, 4, 1])"
      ]
     },
     "execution_count": 40,
     "metadata": {},
     "output_type": "execute_result"
    }
   ],
   "source": [
    "# https://markroxor.github.io/gensim/static/notebooks/gensim_news_classification.html#topic=0&lambda=1&term=\n",
    "import pyLDAvis\n",
    "import pyLDAvis.sklearn\n",
    "pyLDAvis.enable_notebook()\n",
    "pyLDAvis.sklearn.prepare(lda_tf, dtm_tf, count_vect)"
   ]
  },
  {
   "cell_type": "code",
   "execution_count": 41,
   "metadata": {},
   "outputs": [
    {
     "name": "stderr",
     "output_type": "stream",
     "text": [
      "/Users/jmorton/miniconda3/envs/textminer/lib/python3.7/site-packages/umap/rp_tree.py:450: NumbaWarning: \n",
      "Compilation is falling back to object mode WITH looplifting enabled because Function \"make_euclidean_tree\" failed type inference due to: Cannot unify RandomProjectionTreeNode(array(int64, 1d, C), bool, none, none, none, none) and RandomProjectionTreeNode(none, bool, array(float32, 1d, C), float64, RandomProjectionTreeNode(array(int64, 1d, C), bool, none, none, none, none), RandomProjectionTreeNode(array(int64, 1d, C), bool, none, none, none, none)) for '$14.16', defined at /Users/jmorton/miniconda3/envs/textminer/lib/python3.7/site-packages/umap/rp_tree.py (457)\n",
      "\n",
      "File \"../../../../miniconda3/envs/textminer/lib/python3.7/site-packages/umap/rp_tree.py\", line 457:\n",
      "def make_euclidean_tree(data, indices, rng_state, leaf_size=30):\n",
      "    <source elided>\n",
      "\n",
      "        left_node = make_euclidean_tree(data, left_indices, rng_state, leaf_size)\n",
      "        ^\n",
      "\n",
      "[1] During: resolving callee type: recursive(type(CPUDispatcher(<function make_euclidean_tree at 0x16518c158>)))\n",
      "[2] During: typing of call at /Users/jmorton/miniconda3/envs/textminer/lib/python3.7/site-packages/umap/rp_tree.py (457)\n",
      "\n",
      "\n",
      "File \"../../../../miniconda3/envs/textminer/lib/python3.7/site-packages/umap/rp_tree.py\", line 457:\n",
      "def make_euclidean_tree(data, indices, rng_state, leaf_size=30):\n",
      "    <source elided>\n",
      "\n",
      "        left_node = make_euclidean_tree(data, left_indices, rng_state, leaf_size)\n",
      "        ^\n",
      "\n",
      "  @numba.jit()\n",
      "/Users/jmorton/miniconda3/envs/textminer/lib/python3.7/site-packages/numba/compiler.py:725: NumbaWarning: Function \"make_euclidean_tree\" was compiled in object mode without forceobj=True.\n",
      "\n",
      "File \"../../../../miniconda3/envs/textminer/lib/python3.7/site-packages/umap/rp_tree.py\", line 451:\n",
      "@numba.jit()\n",
      "def make_euclidean_tree(data, indices, rng_state, leaf_size=30):\n",
      "^\n",
      "\n",
      "  self.func_ir.loc))\n",
      "/Users/jmorton/miniconda3/envs/textminer/lib/python3.7/site-packages/numba/compiler.py:734: NumbaDeprecationWarning: \n",
      "Fall-back from the nopython compilation path to the object mode compilation path has been detected, this is deprecated behaviour.\n",
      "\n",
      "For more information visit http://numba.pydata.org/numba-doc/latest/reference/deprecation.html#deprecation-of-object-mode-fall-back-behaviour-when-using-jit\n",
      "\n",
      "File \"../../../../miniconda3/envs/textminer/lib/python3.7/site-packages/umap/rp_tree.py\", line 451:\n",
      "@numba.jit()\n",
      "def make_euclidean_tree(data, indices, rng_state, leaf_size=30):\n",
      "^\n",
      "\n",
      "  warnings.warn(errors.NumbaDeprecationWarning(msg, self.func_ir.loc))\n",
      "/Users/jmorton/miniconda3/envs/textminer/lib/python3.7/site-packages/umap/nndescent.py:92: NumbaPerformanceWarning: \n",
      "The keyword argument 'parallel=True' was specified but no transformation for parallel execution was possible.\n",
      "\n",
      "To find out why, try turning on parallel diagnostics, see http://numba.pydata.org/numba-doc/latest/user/parallel.html#diagnostics for help.\n",
      "\n",
      "File \"../../../../miniconda3/envs/textminer/lib/python3.7/site-packages/umap/utils.py\", line 409:\n",
      "@numba.njit(parallel=True)\n",
      "def build_candidates(current_graph, n_vertices, n_neighbors, max_candidates, rng_state):\n",
      "^\n",
      "\n",
      "  current_graph, n_vertices, n_neighbors, max_candidates, rng_state\n",
      "/Users/jmorton/miniconda3/envs/textminer/lib/python3.7/site-packages/numba/compiler.py:588: NumbaPerformanceWarning: \n",
      "The keyword argument 'parallel=True' was specified but no transformation for parallel execution was possible.\n",
      "\n",
      "To find out why, try turning on parallel diagnostics, see http://numba.pydata.org/numba-doc/latest/user/parallel.html#diagnostics for help.\n",
      "\n",
      "File \"../../../../miniconda3/envs/textminer/lib/python3.7/site-packages/umap/nndescent.py\", line 47:\n",
      "    @numba.njit(parallel=True)\n",
      "    def nn_descent(\n",
      "    ^\n",
      "\n",
      "  self.func_ir.loc))\n",
      "/Users/jmorton/miniconda3/envs/textminer/lib/python3.7/site-packages/umap/umap_.py:349: NumbaWarning: \n",
      "Compilation is falling back to object mode WITH looplifting enabled because Function \"fuzzy_simplicial_set\" failed type inference due to: Untyped global name 'nearest_neighbors': cannot determine Numba type of <class 'function'>\n",
      "\n",
      "File \"../../../../miniconda3/envs/textminer/lib/python3.7/site-packages/umap/umap_.py\", line 467:\n",
      "def fuzzy_simplicial_set(\n",
      "    <source elided>\n",
      "    if knn_indices is None or knn_dists is None:\n",
      "        knn_indices, knn_dists, _ = nearest_neighbors(\n",
      "        ^\n",
      "\n",
      "  @numba.jit()\n",
      "/Users/jmorton/miniconda3/envs/textminer/lib/python3.7/site-packages/numba/compiler.py:725: NumbaWarning: Function \"fuzzy_simplicial_set\" was compiled in object mode without forceobj=True.\n",
      "\n",
      "File \"../../../../miniconda3/envs/textminer/lib/python3.7/site-packages/umap/umap_.py\", line 350:\n",
      "@numba.jit()\n",
      "def fuzzy_simplicial_set(\n",
      "^\n",
      "\n",
      "  self.func_ir.loc))\n",
      "/Users/jmorton/miniconda3/envs/textminer/lib/python3.7/site-packages/numba/compiler.py:734: NumbaDeprecationWarning: \n",
      "Fall-back from the nopython compilation path to the object mode compilation path has been detected, this is deprecated behaviour.\n",
      "\n",
      "For more information visit http://numba.pydata.org/numba-doc/latest/reference/deprecation.html#deprecation-of-object-mode-fall-back-behaviour-when-using-jit\n",
      "\n",
      "File \"../../../../miniconda3/envs/textminer/lib/python3.7/site-packages/umap/umap_.py\", line 350:\n",
      "@numba.jit()\n",
      "def fuzzy_simplicial_set(\n",
      "^\n",
      "\n",
      "  warnings.warn(errors.NumbaDeprecationWarning(msg, self.func_ir.loc))\n",
      "/Users/jmorton/miniconda3/envs/textminer/lib/python3.7/site-packages/umap/spectral.py:229: UserWarning: Embedding a total of 5 separate connected components using meta-embedding (experimental)\n",
      "  n_components\n"
     ]
    },
    {
     "data": {
      "text/plain": [
       "UMAP(a=None, angular_rp_forest=False, b=None, init='spectral',\n",
       "     learning_rate=1.0, local_connectivity=1.0, metric='euclidean',\n",
       "     metric_kwds=None, min_dist=0.1, n_components=2, n_epochs=None,\n",
       "     n_neighbors=20, negative_sample_rate=5, random_state=None,\n",
       "     repulsion_strength=1.0, set_op_mix_ratio=1.0, spread=1.0,\n",
       "     target_metric='categorical', target_metric_kwds=None,\n",
       "     target_n_neighbors=-1, target_weight=0.5, transform_queue_size=4.0,\n",
       "     transform_seed=42, verbose=False)"
      ]
     },
     "execution_count": 41,
     "metadata": {},
     "output_type": "execute_result"
    }
   ],
   "source": [
    "import umap\n",
    "topic_props = lda_tf.transform(dtm_tf)\n",
    "T = np.log(topic_props)\n",
    "Y = T - T.mean(axis=1).reshape(-1, 1)\n",
    "Y = Y - Y.mean(axis=0)\n",
    "umap_model = umap.UMAP(n_neighbors=20, metric='euclidean')\n",
    "umap_model.fit(Y)"
   ]
  },
  {
   "cell_type": "code",
   "execution_count": 42,
   "metadata": {},
   "outputs": [],
   "source": [
    "embedding = umap_model.transform(Y)"
   ]
  },
  {
   "cell_type": "code",
   "execution_count": 43,
   "metadata": {},
   "outputs": [
    {
     "data": {
      "text/plain": [
       "<matplotlib.collections.PathCollection at 0x16402f2e8>"
      ]
     },
     "execution_count": 43,
     "metadata": {},
     "output_type": "execute_result"
    },
    {
     "data": {
      "image/png": "[encoded data removed]",
      "text/plain": [
       "<Figure size 432x288 with 1 Axes>"
      ]
     },
     "metadata": {
      "needs_background": "light"
     },
     "output_type": "display_data"
    }
   ],
   "source": [
    "plt.scatter(embedding[:, 0], embedding[:, 1], s=1)"
   ]
  },
  {
   "cell_type": "code",
   "execution_count": 44,
   "metadata": {},
   "outputs": [],
   "source": [
    "params = {'tsne': embedding, 'lda': lda_tf, 'wfreq': dtm_tf, 'terms': count_vect}"
   ]
  },
  {
   "cell_type": "code",
   "execution_count": 46,
   "metadata": {},
   "outputs": [],
   "source": [
    "import pickle\n",
    "with open('../results/params_dump.bin', 'wb') as fp:\n",
    "    pickle.dump(params, fp)"
   ]
  },
  {
   "cell_type": "code",
   "execution_count": null,
   "metadata": {},
   "outputs": [],
   "source": []
  }
 ],
 "metadata": {
  "kernelspec": {
   "display_name": "Python 3",
   "language": "python",
   "name": "python3"
  },
  "language_info": {
   "codemirror_mode": {
    "name": "ipython",
    "version": 3
   },
   "file_extension": ".py",
   "mimetype": "text/x-python",
   "name": "python",
   "nbconvert_exporter": "python",
   "pygments_lexer": "ipython3",
   "version": "3.7.3"
  }
 },
 "nbformat": 4,
 "nbformat_minor": 2
}
